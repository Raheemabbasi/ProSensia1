{
  "nbformat": 4,
  "nbformat_minor": 0,
  "metadata": {
    "colab": {
      "provenance": [],
      "authorship_tag": "ABX9TyMcVAjw4Ku5ZkpeKsoDLu4n",
      "include_colab_link": true
    },
    "kernelspec": {
      "name": "python3",
      "display_name": "Python 3"
    },
    "language_info": {
      "name": "python"
    }
  },
  "cells": [
    {
      "cell_type": "markdown",
      "metadata": {
        "id": "view-in-github",
        "colab_type": "text"
      },
      "source": [
        "<a href=\"https://colab.research.google.com/github/Raheemabbasi/LAB-1/blob/main/abdulraheem.ipynb\" target=\"_parent\"><img src=\"https://colab.research.google.com/assets/colab-badge.svg\" alt=\"Open In Colab\"/></a>"
      ]
    },
    {
      "cell_type": "markdown",
      "source": [
        "#Print at least 3 types of data type each with at least 5 examples."
      ],
      "metadata": {
        "id": "GhEx72jV_qOS"
      }
    },
    {
      "cell_type": "markdown",
      "source": [
        "INTEGER:"
      ],
      "metadata": {
        "id": "TfIJdS16_t_C"
      }
    },
    {
      "cell_type": "code",
      "source": [
        "a = 5\n",
        "print(a)\n",
        "print (type(a))\n",
        "\n",
        "b = 7\n",
        "print(b)\n",
        "print (type(b))\n",
        "\n",
        "c = 99\n",
        "print(c)\n",
        "print (type(c))\n",
        "\n",
        "d = 24\n",
        "print(d)\n",
        "print (type(d))\n",
        "\n",
        "e = 23\n",
        "print(e)\n",
        "print (type(e))\n",
        "\n",
        "f = 19\n",
        "print(f)\n",
        "print (type(f))"
      ],
      "metadata": {
        "id": "g_FZZ2RPC4YB"
      },
      "execution_count": null,
      "outputs": []
    },
    {
      "cell_type": "markdown",
      "source": [
        "FLOAT:"
      ],
      "metadata": {
        "id": "9KNolJxuEYlY"
      }
    },
    {
      "cell_type": "code",
      "source": [
        "a = -5.1\n",
        "print(a)\n",
        "print (type(a))\n",
        "\n",
        "b = -7.3\n",
        "print(b)\n",
        "print (type(b))\n",
        "\n",
        "c = 9.9\n",
        "print(c)\n",
        "print (type(c))\n",
        "\n",
        "d = 2.4\n",
        "print(d)\n",
        "print (type(d))\n",
        "\n",
        "e = 23.1\n",
        "print(e)\n",
        "print (type(e))\n",
        "\n",
        "f = 19.9\n",
        "print(f)\n",
        "print (type(f))"
      ],
      "metadata": {
        "id": "RDHFPWY_EeeS"
      },
      "execution_count": null,
      "outputs": []
    },
    {
      "cell_type": "markdown",
      "source": [
        "COMPLEX:"
      ],
      "metadata": {
        "id": "xfT5hxPKE8ON"
      }
    },
    {
      "cell_type": "code",
      "source": [
        "a = 5+2j\n",
        "print(a)\n",
        "print (type(a))\n",
        "\n",
        "b = 7+3j\n",
        "print(b)\n",
        "print (type(b))\n",
        "\n",
        "c = 99+1j\n",
        "print(c)\n",
        "print (type(c))\n",
        "\n",
        "d = 24+7j\n",
        "print(d)\n",
        "print (type(d))\n",
        "\n",
        "e = 23-6j\n",
        "print(e)\n",
        "print (type(e))\n",
        "\n",
        "f = 19-9j\n",
        "print(f)\n",
        "print (type(f))"
      ],
      "metadata": {
        "id": "AKzGed8pFAfY"
      },
      "execution_count": null,
      "outputs": []
    },
    {
      "cell_type": "markdown",
      "source": [
        "#\tWrite example of type conversion for each ( minimum 3)"
      ],
      "metadata": {
        "id": "Oki57oDcGyNg"
      }
    },
    {
      "cell_type": "code",
      "source": [
        "# Integer to float\n",
        "int_to_float = float(2)\n",
        "print(int_to_float)\n",
        "\n",
        "int_to_float = float(3)\n",
        "print(int_to_float)\n",
        "\n",
        "int_to_float = float(1)\n",
        "print(int_to_float)\n",
        "\n",
        "# Float to integer\n",
        "float_to_int = int(9.13)\n",
        "print(float_to_int)\n",
        "\n",
        "float_to_int = int(1.13)\n",
        "print(float_to_int)\n",
        "\n",
        "float_to_int = int(7.13)\n",
        "print(float_to_int)\n",
        "\n",
        "# Complex to integer\n",
        "complex_to_integer = complex(7)\n",
        "print(complex_to_integer)\n",
        "\n",
        "complex_to_integer = complex(3)\n",
        "print(complex_to_integer)\n",
        "\n",
        "complex_to_integer = complex(9)\n",
        "print(complex_to_integer)"
      ],
      "metadata": {
        "id": "3YiobGRRG5nq"
      },
      "execution_count": null,
      "outputs": []
    },
    {
      "cell_type": "markdown",
      "source": [
        "# Assign multiple strings to single variable with your name , registration number, program , semester etc'"
      ],
      "metadata": {
        "id": "-JjbdNfsIrJc"
      }
    },
    {
      "cell_type": "code",
      "source": [
        "data = \"\"\"\n",
        "Name: Raheem Abbasi\n",
        "Registration Number: B22FI207AI062\n",
        "Program: Artificial Intelligence\n",
        "Semester: Spring 2022\n",
        "\n",
        "\"\"\"\n",
        "\n",
        "print(data)"
      ],
      "metadata": {
        "colab": {
          "base_uri": "https://localhost:8080/"
        },
        "id": "Mvu8NAgyJReU",
        "outputId": "9a71da54-71b3-4184-c37b-e1f78991f869"
      },
      "execution_count": 12,
      "outputs": [
        {
          "output_type": "stream",
          "name": "stdout",
          "text": [
            "\n",
            "Name: Raheem Abbasi\n",
            "Registration Number: B22FI207AI062\n",
            "Program: Artificial Intelligence\n",
            "Semester: Spring 2022\n",
            "\n"
          ]
        }
      ]
    },
    {
      "cell_type": "markdown",
      "source": [
        "#Write Your country name and access the last 3 characters"
      ],
      "metadata": {
        "id": "pu_3UKBpKsR4"
      }
    },
    {
      "cell_type": "code",
      "source": [
        "country= \"Pakistan\"\n",
        "last_three_char= country[5:8]\n",
        "print (last_three_char)\n"
      ],
      "metadata": {
        "id": "3UgWlHW7KzeF"
      },
      "execution_count": null,
      "outputs": []
    },
    {
      "cell_type": "markdown",
      "source": [
        "#Write code and observe using len() function it count space or not."
      ],
      "metadata": {
        "id": "rS6X8BySLyGj"
      }
    },
    {
      "cell_type": "code",
      "source": [
        "#length of variable\n",
        "name= \"Raheem Abbasi\"\n",
        "print (len(name))"
      ],
      "metadata": {
        "id": "4-o6bs8PL5Yk"
      },
      "execution_count": null,
      "outputs": []
    },
    {
      "cell_type": "markdown",
      "source": [
        "# Write code to access the 2nd and 3rd character of your name using negative indexes."
      ],
      "metadata": {
        "id": "6DedYLVtMXXP"
      }
    },
    {
      "cell_type": "code",
      "source": [
        "name_1=\"raheem\"\n",
        "name_2=\"abbasi\"\n",
        "second_char=name_1[-3]\n",
        "third_char=name_2[-4]\n",
        "print(second_char)\n",
        "print(third_char)"
      ],
      "metadata": {
        "colab": {
          "base_uri": "https://localhost:8080/"
        },
        "id": "4Fij6ckUMfa5",
        "outputId": "6a014504-4f8a-4721-c898-1b26bd3c1263"
      },
      "execution_count": 16,
      "outputs": [
        {
          "output_type": "stream",
          "name": "stdout",
          "text": [
            "e\n",
            "b\n"
          ]
        }
      ]
    },
    {
      "cell_type": "markdown",
      "source": [
        "#Write python code in which you pass index number to format() function and arguments must be 4 and same code without indexes.\n"
      ],
      "metadata": {
        "id": "Jeqb_q9S3wQg"
      }
    },
    {
      "cell_type": "code",
      "source": [
        "# Without indexes with format function\n",
        "def format_without_index(index):\n",
        "    try:\n",
        "        args = (10, 20, 30, 40)\n",
        "        formatted_string = \"Arguments: {}, {}, {}, {}\".format(*args)\n",
        "        print(formatted_string)\n",
        "    except IndexError:\n",
        "        print(\"Error: Index out of range.\")\n",
        "\n",
        "# Example usage\n",
        "format_without_index(2)  # Passing index number 2\n"
      ],
      "metadata": {
        "colab": {
          "base_uri": "https://localhost:8080/"
        },
        "id": "Hc7dYF2x36Gf",
        "outputId": "141a31ba-77b4-49f1-98bd-54146d936ecb"
      },
      "execution_count": 1,
      "outputs": [
        {
          "output_type": "stream",
          "name": "stdout",
          "text": [
            "Arguments: 10, 20, 30, 40\n"
          ]
        }
      ]
    },
    {
      "cell_type": "markdown",
      "source": [
        "#Take input from user and  than display it like “John age is: age”"
      ],
      "metadata": {
        "id": "VYPKnwV84JQP"
      }
    },
    {
      "cell_type": "code",
      "source": [
        "def display_user_info():\n",
        "    try:\n",
        "        # Take input from the user\n",
        "        name = input(\"Enter your name: \")\n",
        "        age = input(\"Enter your age: \")\n",
        "\n",
        "        # Display the input in the specified format\n",
        "        print(\"{}'s age is: {}\".format(name, age))\n",
        "    except Exception as e:\n",
        "        print(\"An error occurred:\", e)\n",
        "\n",
        "# Example usage\n",
        "display_user_info()\n"
      ],
      "metadata": {
        "id": "YWPcdMEu4QgG"
      },
      "execution_count": null,
      "outputs": []
    }
  ]
}
