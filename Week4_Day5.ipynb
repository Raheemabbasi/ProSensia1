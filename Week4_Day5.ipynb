{
  "nbformat": 4,
  "nbformat_minor": 0,
  "metadata": {
    "colab": {
      "provenance": [],
      "authorship_tag": "ABX9TyPcZ4Rygzh/XFmbiX8ZqqW/",
      "include_colab_link": true
    },
    "kernelspec": {
      "name": "python3",
      "display_name": "Python 3"
    },
    "language_info": {
      "name": "python"
    }
  },
  "cells": [
    {
      "cell_type": "markdown",
      "metadata": {
        "id": "view-in-github",
        "colab_type": "text"
      },
      "source": [
        "<a href=\"https://colab.research.google.com/github/Raheemabbasi/ProSensia1/blob/main/Week4_Day5.ipynb\" target=\"_parent\"><img src=\"https://colab.research.google.com/assets/colab-badge.svg\" alt=\"Open In Colab\"/></a>"
      ]
    },
    {
      "cell_type": "markdown",
      "source": [
        "Quiz Game"
      ],
      "metadata": {
        "id": "U5BGYhEm3L-l"
      }
    },
    {
      "cell_type": "code",
      "source": [
        "def get_questions_and_answers():\n",
        "    # Storing questions and answers in a dictionary\n",
        "    return {\n",
        "        \"What is the capital of France?\": \"Paris\",\n",
        "        \"What is 2 + 2?\": \"4\",\n",
        "        \"What is the chemical symbol for water?\": \"H2O\",\n",
        "        \"Who wrote 'To Kill a Mockingbird'?\": \"Harper Lee\",\n",
        "        \"What is the largest planet in our solar system?\": \"Jupiter\"\n",
        "    }\n",
        "\n",
        "def ask_question(question, correct_answer):\n",
        "    user_answer = input(f\"{question} \").strip()\n",
        "    if user_answer.lower() == correct_answer.lower():\n",
        "        print(\"Correct!\\n\")\n",
        "        return True\n",
        "    else:\n",
        "        print(f\"Incorrect. The correct answer is {correct_answer}.\\n\")\n",
        "        return False\n",
        "\n",
        "def main():\n",
        "    questions = get_questions_and_answers()\n",
        "    score = 0\n",
        "\n",
        "    for question, correct_answer in questions.items():\n",
        "        if ask_question(question, correct_answer):\n",
        "            score += 1\n",
        "\n",
        "    print(f\"Quiz complete! Your final score is {score}/{len(questions)}.\")\n",
        "\n",
        "if __name__ == \"__main__\":\n",
        "    main()"
      ],
      "metadata": {
        "colab": {
          "base_uri": "https://localhost:8080/"
        },
        "id": "xMgR6ouA3OUW",
        "outputId": "ba59fc89-af49-4c4e-aad4-b74d6f5de01c"
      },
      "execution_count": 1,
      "outputs": [
        {
          "output_type": "stream",
          "name": "stdout",
          "text": [
            "What is the capital of France? Paris\n",
            "Correct!\n",
            "\n",
            "What is 2 + 2? 4\n",
            "Correct!\n",
            "\n",
            "What is the chemical symbol for water? H2O\n",
            "Correct!\n",
            "\n",
            "Who wrote 'To Kill a Mockingbird'? Harper Lee\n",
            "Correct!\n",
            "\n",
            "What is the largest planet in our solar system? Jupiter\n",
            "Correct!\n",
            "\n",
            "Quiz complete! Your final score is 5/5.\n"
          ]
        }
      ]
    }
  ]
}