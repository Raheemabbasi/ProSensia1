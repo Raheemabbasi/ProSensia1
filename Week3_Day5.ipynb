{
  "nbformat": 4,
  "nbformat_minor": 0,
  "metadata": {
    "colab": {
      "provenance": [],
      "authorship_tag": "ABX9TyPLBVxMOoLd2EyvgYzDgpWB",
      "include_colab_link": true
    },
    "kernelspec": {
      "name": "python3",
      "display_name": "Python 3"
    },
    "language_info": {
      "name": "python"
    }
  },
  "cells": [
    {
      "cell_type": "markdown",
      "metadata": {
        "id": "view-in-github",
        "colab_type": "text"
      },
      "source": [
        "<a href=\"https://colab.research.google.com/github/Raheemabbasi/ProSensia1/blob/main/Week3_Day5.ipynb\" target=\"_parent\"><img src=\"https://colab.research.google.com/assets/colab-badge.svg\" alt=\"Open In Colab\"/></a>"
      ]
    },
    {
      "cell_type": "markdown",
      "source": [
        "1.Complex Number Arithmetic with Error Handling"
      ],
      "metadata": {
        "id": "Y5rwYHoHlzwb"
      }
    },
    {
      "cell_type": "code",
      "source": [
        "def complex_arithmetic(c1, c2):\n",
        "    try:\n",
        "        a, b = c1\n",
        "        c, d = c2\n",
        "        complex1 = complex(a, b)\n",
        "        complex2 = complex(c, d)\n",
        "    except (TypeError, ValueError):\n",
        "        return \"Invalid inputs for complex numbers\"\n",
        "\n",
        "    addition = complex1 + complex2\n",
        "    subtraction = complex1 - complex2\n",
        "    multiplication = complex1 * complex2\n",
        "\n",
        "    try:\n",
        "        division = complex1 / complex2\n",
        "    except ZeroDivisionError:\n",
        "        division = \"Division by zero error\"\n",
        "\n",
        "    return (addition, subtraction, multiplication, division)\n",
        "\n",
        "print(complex_arithmetic((1, 2), (3, 4)))"
      ],
      "metadata": {
        "colab": {
          "base_uri": "https://localhost:8080/"
        },
        "id": "AKTWm2QTmBXd",
        "outputId": "e17d86dc-aa2a-448e-ef17-85e5a6ae3427"
      },
      "execution_count": 1,
      "outputs": [
        {
          "output_type": "stream",
          "name": "stdout",
          "text": [
            "((4+6j), (-2-2j), (-5+10j), (0.44+0.08j))\n"
          ]
        }
      ]
    },
    {
      "cell_type": "markdown",
      "source": [
        "2.Conditional Polynomial Evaluation with Multiple Conditions"
      ],
      "metadata": {
        "id": "3G4IyVO2mHcR"
      }
    },
    {
      "cell_type": "code",
      "source": [
        "def evaluate_polynomial(x, coefficients):\n",
        "    degree = len(coefficients) - 1\n",
        "\n",
        "    if degree == 0:\n",
        "        return coefficients[0]\n",
        "    elif degree == 1:\n",
        "        return coefficients[0] * x + coefficients[1]\n",
        "    elif degree == 2:\n",
        "        return coefficients[0] * x**2 + coefficients[1] * x + coefficients[2]\n",
        "    elif degree == 3:\n",
        "        return coefficients[0] * x**3 + coefficients[1] * x**2 + coefficients[2] * x + coefficients[3]\n",
        "    else:\n",
        "        return \"Polynomial degree not supported\"\n",
        "\n",
        "print(evaluate_polynomial(2, [1, 0, 0, 2]))  # x^3 + 2"
      ],
      "metadata": {
        "colab": {
          "base_uri": "https://localhost:8080/"
        },
        "id": "hVH8GsGdmLTf",
        "outputId": "f533996c-6f05-4209-c415-4386aadc2c9a"
      },
      "execution_count": 2,
      "outputs": [
        {
          "output_type": "stream",
          "name": "stdout",
          "text": [
            "10\n"
          ]
        }
      ]
    },
    {
      "cell_type": "markdown",
      "source": [
        "3.Recursive Fibonacci with Depth Limitation"
      ],
      "metadata": {
        "id": "FbEf3XVDmPuy"
      }
    },
    {
      "cell_type": "code",
      "source": [
        "def fibonacci(n, depth_limit=10, current_depth=0):\n",
        "    if current_depth > depth_limit:\n",
        "        return fibonacci(n, depth_limit, current_depth-1) + fibonacci(n-1, depth_limit, current_depth-1)\n",
        "\n",
        "    if n <= 1:\n",
        "        return n\n",
        "    return fibonacci(n-1, depth_limit, current_depth+1) + fibonacci(n-2, depth_limit, current_depth+1)\n",
        "\n",
        "print(fibonacci(5))"
      ],
      "metadata": {
        "colab": {
          "base_uri": "https://localhost:8080/"
        },
        "id": "GpT4DdPamTWA",
        "outputId": "9b99229b-d1af-42ba-83ef-25540be88c18"
      },
      "execution_count": 3,
      "outputs": [
        {
          "output_type": "stream",
          "name": "stdout",
          "text": [
            "5\n"
          ]
        }
      ]
    },
    {
      "cell_type": "markdown",
      "source": [
        "4.Higher-order Functions for Adaptive Integration"
      ],
      "metadata": {
        "id": "He7mKiGDmXgh"
      }
    },
    {
      "cell_type": "code",
      "source": [
        "from scipy.integrate import quad\n",
        "\n",
        "def adaptive_integration(func, a, b, tol=1e-6):\n",
        "    result, _ = quad(func, a, b, epsabs=tol, epsrel=tol)\n",
        "    return result\n",
        "\n",
        "def sample_function(x):\n",
        "    return x**2 + 2*x + 1\n",
        "\n",
        "print(adaptive_integration(sample_function, 0, 1))"
      ],
      "metadata": {
        "colab": {
          "base_uri": "https://localhost:8080/"
        },
        "id": "vV0YrE1umbPE",
        "outputId": "5e8d6056-3c90-4b2a-b05d-9f9ae6cda60f"
      },
      "execution_count": 4,
      "outputs": [
        {
          "output_type": "stream",
          "name": "stdout",
          "text": [
            "2.3333333333333335\n"
          ]
        }
      ]
    },
    {
      "cell_type": "markdown",
      "source": [
        "5.Optimized Prime Number Generator with Caching"
      ],
      "metadata": {
        "id": "XM1HvgYJmgSK"
      }
    },
    {
      "cell_type": "code",
      "source": [
        "def prime_generator(limit):\n",
        "    sieve = [True] * (limit + 1)\n",
        "    sieve[0] = sieve[1] = False\n",
        "    for start in range(2, int(limit**0.5) + 1):\n",
        "        if sieve[start]:\n",
        "            for i in range(start*start, limit + 1, start):\n",
        "                sieve[i] = False\n",
        "\n",
        "    return (num for num, is_prime in enumerate(sieve) if is_prime)\n",
        "\n",
        "primes_up_to_50 = list(prime_generator(50))\n",
        "print(primes_up_to_50)"
      ],
      "metadata": {
        "colab": {
          "base_uri": "https://localhost:8080/"
        },
        "id": "TC4EH256mmN2",
        "outputId": "a678c9d5-32ca-4c15-9f66-256369ca6205"
      },
      "execution_count": 5,
      "outputs": [
        {
          "output_type": "stream",
          "name": "stdout",
          "text": [
            "[2, 3, 5, 7, 11, 13, 17, 19, 23, 29, 31, 37, 41, 43, 47]\n"
          ]
        }
      ]
    },
    {
      "cell_type": "markdown",
      "source": [
        "6.Memoized Fibonacci Sequence with Iterative Fallback"
      ],
      "metadata": {
        "id": "RG_uBtj2mrDl"
      }
    },
    {
      "cell_type": "code",
      "source": [
        "def fibonacci_memoized(n, memo={}):\n",
        "    if n in memo:\n",
        "        return memo[n]\n",
        "    if n <= 1:\n",
        "        return n\n",
        "    if len(memo) > 1000:  # Iterative fallback if memoization grows too large\n",
        "        return fibonacci_iterative(n)\n",
        "    memo[n] = fibonacci_memoized(n-1, memo) + fibonacci_memoized(n-2, memo)\n",
        "    return memo[n]\n",
        "\n",
        "def fibonacci_iterative(n):\n",
        "    a, b = 0, 1\n",
        "    for _ in range(n):\n",
        "        a, b = b, a + b\n",
        "    return a\n",
        "\n",
        "print(fibonacci_memoized(100))"
      ],
      "metadata": {
        "colab": {
          "base_uri": "https://localhost:8080/"
        },
        "id": "9uD_HtowmuYm",
        "outputId": "0c3b7bd4-1160-40cd-b181-e49f91ff3571"
      },
      "execution_count": 6,
      "outputs": [
        {
          "output_type": "stream",
          "name": "stdout",
          "text": [
            "354224848179261915075\n"
          ]
        }
      ]
    },
    {
      "cell_type": "markdown",
      "source": [
        "7.Regular Expression Based String Parsing"
      ],
      "metadata": {
        "id": "9szEum-2m0J-"
      }
    },
    {
      "cell_type": "code",
      "source": [
        "import re\n",
        "\n",
        "def extract_dates(text):\n",
        "    date_pattern = r'\\b\\d{4}[-./]\\d{2}[-./]\\d{2}\\b'\n",
        "    dates = re.findall(date_pattern, text)\n",
        "    return dates\n",
        "\n",
        "sample_text = \"These are the dates: 2023-07-19, 2024/07/24.\"\n",
        "print(extract_dates(sample_text))"
      ],
      "metadata": {
        "colab": {
          "base_uri": "https://localhost:8080/"
        },
        "id": "WNWhG6VCm3Gn",
        "outputId": "c531bf4c-461e-405a-c566-152a45ee769d"
      },
      "execution_count": 7,
      "outputs": [
        {
          "output_type": "stream",
          "name": "stdout",
          "text": [
            "['2023-07-19', '2024/07/24']\n"
          ]
        }
      ]
    },
    {
      "cell_type": "markdown",
      "source": [
        "8.Advanced String Transformation with Multiple Conditions"
      ],
      "metadata": {
        "id": "oUiYpvchm7Zw"
      }
    },
    {
      "cell_type": "code",
      "source": [
        "def transform_string(s):\n",
        "    word_map = {'0': 'zero', '1': 'one', '2': 'two', '3': 'three', '4': 'four',\n",
        "                '5': 'five', '6': 'six', '7': 'seven', '8': 'eight', '9': 'nine'}\n",
        "\n",
        "    transformed = []\n",
        "    for word in s.split():\n",
        "        new_word = ''.join(word_map[char] if char.isdigit() else char for char in word)\n",
        "        if len(new_word) > 5:\n",
        "            new_word = new_word[::-1]\n",
        "        transformed.append(new_word)\n",
        "\n",
        "    return ' '.join(transformed).title()\n",
        "\n",
        "print(transform_string(\"Hello 123 World\"))"
      ],
      "metadata": {
        "colab": {
          "base_uri": "https://localhost:8080/"
        },
        "id": "QsIdpHILm_PS",
        "outputId": "afacc7f4-1ba7-4aaf-ccd9-87301269e60e"
      },
      "execution_count": 8,
      "outputs": [
        {
          "output_type": "stream",
          "name": "stdout",
          "text": [
            "Hello Eerhtowteno World\n"
          ]
        }
      ]
    },
    {
      "cell_type": "markdown",
      "source": [
        "9.Dynamic Expression Evaluator with Variable Substitution"
      ],
      "metadata": {
        "id": "fpH7ZUZNnEHw"
      }
    },
    {
      "cell_type": "code",
      "source": [
        "import re\n",
        "\n",
        "def evaluate_expression(expression, variables):\n",
        "    try:\n",
        "        # Substitute variables\n",
        "        for var, val in variables.items():\n",
        "            expression = re.sub(rf'\\b{var}\\b', str(val), expression)\n",
        "\n",
        "        # Safely evaluate the expression\n",
        "        return eval(expression, {\"__builtins__\": {}})\n",
        "    except NameError as e:\n",
        "        return f\"Undefined variable: {e}\"\n",
        "    except Exception as e:\n",
        "        return f\"Error in expression: {e}\"\n",
        "\n",
        "print(evaluate_expression(\"a + b * c\", {\"a\": 1, \"b\": 2, \"c\": 3}))"
      ],
      "metadata": {
        "colab": {
          "base_uri": "https://localhost:8080/"
        },
        "id": "w4BRugJwnH6z",
        "outputId": "7e073937-2e29-4006-c441-143f42480817"
      },
      "execution_count": 9,
      "outputs": [
        {
          "output_type": "stream",
          "name": "stdout",
          "text": [
            "7\n"
          ]
        }
      ]
    },
    {
      "cell_type": "markdown",
      "source": [
        "10.Comprehensive Data Validator"
      ],
      "metadata": {
        "id": "zeaQgMwMnL3_"
      }
    },
    {
      "cell_type": "code",
      "source": [
        "import re\n",
        "\n",
        "def validate_data(entries):\n",
        "    report = {}\n",
        "    for entry in entries:\n",
        "        validation_result = {\n",
        "            \"length_valid\": len(entry) > 5,\n",
        "            \"alphabetic\": entry.isalpha(),\n",
        "            \"numeric\": entry.isnumeric(),\n",
        "            \"alphanumeric\": entry.isalnum(),\n",
        "            \"email\": bool(re.match(r\"[^@]+@[^@]+\\.[^@]+\", entry)),\n",
        "            \"date\": bool(re.match(r\"\\d{4}[-/]\\d{2}[-/]\\d{2}\", entry))\n",
        "        }\n",
        "        report[entry] = validation_result\n",
        "\n",
        "    return report\n",
        "\n",
        "entries = [\"hello\", \"12345\", \"abc123\", \"test@example.com\", \"2023-07-19\"]\n",
        "print(validate_data(entries))"
      ],
      "metadata": {
        "colab": {
          "base_uri": "https://localhost:8080/"
        },
        "id": "_fTGWKH6nPds",
        "outputId": "5cbe013f-0ffa-456b-ec83-a1d10a22a571"
      },
      "execution_count": 10,
      "outputs": [
        {
          "output_type": "stream",
          "name": "stdout",
          "text": [
            "{'hello': {'length_valid': False, 'alphabetic': True, 'numeric': False, 'alphanumeric': True, 'email': False, 'date': False}, '12345': {'length_valid': False, 'alphabetic': False, 'numeric': True, 'alphanumeric': True, 'email': False, 'date': False}, 'abc123': {'length_valid': True, 'alphabetic': False, 'numeric': False, 'alphanumeric': True, 'email': False, 'date': False}, 'test@example.com': {'length_valid': True, 'alphabetic': False, 'numeric': False, 'alphanumeric': False, 'email': True, 'date': False}, '2023-07-19': {'length_valid': True, 'alphabetic': False, 'numeric': False, 'alphanumeric': False, 'email': False, 'date': True}}\n"
          ]
        }
      ]
    }
  ]
}