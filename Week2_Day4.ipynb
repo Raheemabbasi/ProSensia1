{
  "nbformat": 4,
  "nbformat_minor": 0,
  "metadata": {
    "colab": {
      "provenance": [],
      "authorship_tag": "ABX9TyM5d6HjMW+tYEssG/WrJl8h",
      "include_colab_link": true
    },
    "kernelspec": {
      "name": "python3",
      "display_name": "Python 3"
    },
    "language_info": {
      "name": "python"
    }
  },
  "cells": [
    {
      "cell_type": "markdown",
      "metadata": {
        "id": "view-in-github",
        "colab_type": "text"
      },
      "source": [
        "<a href=\"https://colab.research.google.com/github/Raheemabbasi/ProSensia1/blob/main/Week2_Day4.ipynb\" target=\"_parent\"><img src=\"https://colab.research.google.com/assets/colab-badge.svg\" alt=\"Open In Colab\"/></a>"
      ]
    },
    {
      "cell_type": "markdown",
      "source": [
        "1.Sum and Average"
      ],
      "metadata": {
        "id": "Cv4fkqPiD2Kj"
      }
    },
    {
      "cell_type": "code",
      "source": [
        "def sum_and_average():\n",
        "    total = 0\n",
        "    count = 0\n",
        "\n",
        "    while True:\n",
        "        user_input = input(\"Enter a number (or 'done' to finish): \")\n",
        "        if user_input == 'done':\n",
        "            break\n",
        "        try:\n",
        "            number = float(user_input)\n",
        "            total += number\n",
        "            count += 1\n",
        "        except ValueError:\n",
        "            print(\"Invalid input, please enter a number or 'done'.\")\n",
        "\n",
        "    if count > 0:\n",
        "        average = total / count\n",
        "    else:\n",
        "        average = 0\n",
        "\n",
        "    print(f\"Sum: {total}, Average: {average}\")\n",
        "\n",
        "sum_and_average()"
      ],
      "metadata": {
        "colab": {
          "base_uri": "https://localhost:8080/"
        },
        "id": "Dukn9I4XD_7e",
        "outputId": "f38e9b2f-00fa-4f98-e905-90fad23fa01b"
      },
      "execution_count": 1,
      "outputs": [
        {
          "output_type": "stream",
          "name": "stdout",
          "text": [
            "Enter a number (or 'done' to finish): done\n",
            "Sum: 0, Average: 0\n"
          ]
        }
      ]
    },
    {
      "cell_type": "markdown",
      "source": [
        "2.Filtering Values"
      ],
      "metadata": {
        "id": "83j7iQuzESUW"
      }
    },
    {
      "cell_type": "code",
      "source": [
        "def filter_values(numbers, threshold):\n",
        "    filtered_numbers = [num for num in numbers if num > threshold]\n",
        "    print(f\"Numbers greater than {threshold}: {filtered_numbers}\")\n",
        "\n",
        "numbers = [10, 3, 7, 18, 20, 1]\n",
        "threshold = 10\n",
        "filter_values(numbers, threshold)"
      ],
      "metadata": {
        "colab": {
          "base_uri": "https://localhost:8080/"
        },
        "id": "kJ3CLoK3EW6H",
        "outputId": "7948bdce-da1a-46a6-d94b-8a0b6366fb9b"
      },
      "execution_count": 2,
      "outputs": [
        {
          "output_type": "stream",
          "name": "stdout",
          "text": [
            "Numbers greater than 10: [18, 20]\n"
          ]
        }
      ]
    },
    {
      "cell_type": "markdown",
      "source": [
        "3.Finding the Largest and Smallest"
      ],
      "metadata": {
        "id": "395CUCTMEhVy"
      }
    },
    {
      "cell_type": "code",
      "source": [
        "def find_largest_and_smallest(numbers):\n",
        "    if not numbers:\n",
        "        return None, None\n",
        "\n",
        "    largest = numbers[0]\n",
        "    smallest = numbers[0]\n",
        "\n",
        "    for num in numbers[1:]:\n",
        "        if num > largest:\n",
        "            largest = num\n",
        "        if num < smallest:\n",
        "            smallest = num\n",
        "\n",
        "    return largest, smallest\n",
        "\n",
        "numbers = [10, 3, 7, 18, 20, 1]\n",
        "largest, smallest = find_largest_and_smallest(numbers)\n",
        "print(f\"Largest: {largest}, Smallest: {smallest}\")"
      ],
      "metadata": {
        "colab": {
          "base_uri": "https://localhost:8080/"
        },
        "id": "0s31kkRxEqVr",
        "outputId": "151b3743-cdba-4158-8d0a-d8ce9090952b"
      },
      "execution_count": 3,
      "outputs": [
        {
          "output_type": "stream",
          "name": "stdout",
          "text": [
            "Largest: 20, Smallest: 1\n"
          ]
        }
      ]
    },
    {
      "cell_type": "markdown",
      "source": [
        "4.Removing Duplicates"
      ],
      "metadata": {
        "id": "g-nWQMFLEvcM"
      }
    },
    {
      "cell_type": "code",
      "source": [
        "def remove_duplicates(numbers):\n",
        "    unique_numbers = list(set(numbers))\n",
        "    print(f\"Unique numbers: {unique_numbers}\")\n",
        "\n",
        "numbers = [10, 3, 7, 18, 10, 3, 1]\n",
        "remove_duplicates(numbers)"
      ],
      "metadata": {
        "colab": {
          "base_uri": "https://localhost:8080/"
        },
        "id": "xP-oBONdE0ib",
        "outputId": "78eb94d3-f048-42b5-d16d-86a6075afdd1"
      },
      "execution_count": 4,
      "outputs": [
        {
          "output_type": "stream",
          "name": "stdout",
          "text": [
            "Unique numbers: [1, 3, 7, 10, 18]\n"
          ]
        }
      ]
    },
    {
      "cell_type": "markdown",
      "source": [
        "5.Break and Continue"
      ],
      "metadata": {
        "id": "HAlAfMzwE4-2"
      }
    },
    {
      "cell_type": "code",
      "source": [
        "def read_lines():\n",
        "    while True:\n",
        "        line = input(\"Enter a line of text (or 'done' to finish): \")\n",
        "        if line == 'done':\n",
        "            break\n",
        "        if line.startswith('#'):\n",
        "            continue\n",
        "        print(line)\n",
        "\n",
        "read_lines()"
      ],
      "metadata": {
        "colab": {
          "base_uri": "https://localhost:8080/"
        },
        "id": "OOBTMA7CE9YA",
        "outputId": "8c7a0efb-e925-445e-a588-be3b47efb47a"
      },
      "execution_count": 5,
      "outputs": [
        {
          "name": "stdout",
          "output_type": "stream",
          "text": [
            "Enter a line of text (or 'done' to finish): done\n"
          ]
        }
      ]
    },
    {
      "cell_type": "markdown",
      "source": [
        "6.Infinite Loop Prevention"
      ],
      "metadata": {
        "id": "NGvvx-cqFE4I"
      }
    },
    {
      "cell_type": "code",
      "source": [
        "def guess_number():\n",
        "    correct_number = 42\n",
        "    attempts = 0\n",
        "    max_attempts = 10\n",
        "\n",
        "    while attempts < max_attempts:\n",
        "        user_input = input(\"Guess the number: \")\n",
        "        attempts += 1\n",
        "        try:\n",
        "            guess = int(user_input)\n",
        "            if guess == correct_number:\n",
        "                print(\"Correct! You've guessed the number.\")\n",
        "                break\n",
        "            else:\n",
        "                print(\"Incorrect guess.\")\n",
        "        except ValueError:\n",
        "            print(\"Invalid input, please enter a number.\")\n",
        "\n",
        "    if attempts == max_attempts:\n",
        "        print(\"You've reached the maximum number of attempts.\")\n",
        "\n",
        "guess_number()"
      ],
      "metadata": {
        "colab": {
          "base_uri": "https://localhost:8080/"
        },
        "id": "_ZaqZbqbFJ8k",
        "outputId": "a3e354e2-2572-48c3-a832-7e5ceca23425"
      },
      "execution_count": 6,
      "outputs": [
        {
          "output_type": "stream",
          "name": "stdout",
          "text": [
            "Guess the number: 7\n",
            "Incorrect guess.\n",
            "Guess the number: 6\n",
            "Incorrect guess.\n",
            "Guess the number: 7\n",
            "Incorrect guess.\n",
            "Guess the number: 42\n",
            "Correct! You've guessed the number.\n"
          ]
        }
      ]
    },
    {
      "cell_type": "markdown",
      "source": [
        "7.Sum of Squares"
      ],
      "metadata": {
        "id": "3EJyT5cCFYss"
      }
    },
    {
      "cell_type": "code",
      "source": [
        "def sum_of_squares():\n",
        "    N = int(input(\"Enter a number: \"))\n",
        "    total = sum(i ** 2 for i in range(1, N + 1))\n",
        "    print(f\"Sum of squares of the first {N} natural numbers is: {total}\")\n",
        "\n",
        "sum_of_squares()"
      ],
      "metadata": {
        "colab": {
          "base_uri": "https://localhost:8080/"
        },
        "id": "lJh3w7eEFdB5",
        "outputId": "1fc1a0ef-efbe-44f9-ac70-3eb2349ed9c7"
      },
      "execution_count": 7,
      "outputs": [
        {
          "output_type": "stream",
          "name": "stdout",
          "text": [
            "Enter a number: 34\n",
            "Sum of squares of the first 34 natural numbers is: 13685\n"
          ]
        }
      ]
    },
    {
      "cell_type": "markdown",
      "source": [
        "8.Reverse a String"
      ],
      "metadata": {
        "id": "crJMTFE2FiLl"
      }
    },
    {
      "cell_type": "code",
      "source": [
        "def reverse_string():\n",
        "    user_input = input(\"Enter a string: \")\n",
        "    reversed_string = user_input[::-1]\n",
        "    print(f\"Reversed string: {reversed_string}\")\n",
        "\n",
        "reverse_string()"
      ],
      "metadata": {
        "colab": {
          "base_uri": "https://localhost:8080/"
        },
        "id": "X6MU_HRfFmEw",
        "outputId": "bc68aa0f-fe78-417e-d8dc-81eb953a970a"
      },
      "execution_count": 8,
      "outputs": [
        {
          "output_type": "stream",
          "name": "stdout",
          "text": [
            "Enter a string: 3\n",
            "Reversed string: 3\n"
          ]
        }
      ]
    },
    {
      "cell_type": "markdown",
      "source": [
        "9.Fibonacci Sequence"
      ],
      "metadata": {
        "id": "SwAUlfSHFuHb"
      }
    },
    {
      "cell_type": "code",
      "source": [
        "def fibonacci_sequence():\n",
        "    N = int(input(\"Enter the number of Fibonacci numbers to print: \"))\n",
        "    if N <= 0:\n",
        "        print(\"Please enter a positive integer.\")\n",
        "        return\n",
        "\n",
        "    sequence = []\n",
        "    a, b = 0, 1\n",
        "    for _ in range(N):\n",
        "        sequence.append(a)\n",
        "        a, b = b, a + b\n",
        "\n",
        "    print(f\"First {N} numbers in the Fibonacci sequence: {sequence}\")\n",
        "\n",
        "fibonacci_sequence()"
      ],
      "metadata": {
        "colab": {
          "base_uri": "https://localhost:8080/"
        },
        "id": "DTo47wNIFx-8",
        "outputId": "4fe57b9c-2295-4ed3-c151-9ecb7346a08f"
      },
      "execution_count": 9,
      "outputs": [
        {
          "output_type": "stream",
          "name": "stdout",
          "text": [
            "Enter the number of Fibonacci numbers to print: 2\n",
            "First 2 numbers in the Fibonacci sequence: [0, 1]\n"
          ]
        }
      ]
    }
  ]
}