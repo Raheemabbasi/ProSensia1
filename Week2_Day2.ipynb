{
  "nbformat": 4,
  "nbformat_minor": 0,
  "metadata": {
    "colab": {
      "provenance": [],
      "authorship_tag": "ABX9TyPKvaqHK7/mj+l+vJc0OCWo",
      "include_colab_link": true
    },
    "kernelspec": {
      "name": "python3",
      "display_name": "Python 3"
    },
    "language_info": {
      "name": "python"
    }
  },
  "cells": [
    {
      "cell_type": "markdown",
      "metadata": {
        "id": "view-in-github",
        "colab_type": "text"
      },
      "source": [
        "<a href=\"https://colab.research.google.com/github/Raheemabbasi/ProSensia1/blob/main/Week2_Day2.ipynb\" target=\"_parent\"><img src=\"https://colab.research.google.com/assets/colab-badge.svg\" alt=\"Open In Colab\"/></a>"
      ]
    },
    {
      "cell_type": "markdown",
      "source": [
        "1.Boolean Expressions and Comparison Operators:"
      ],
      "metadata": {
        "id": "sE0TTRsfoIr5"
      }
    },
    {
      "cell_type": "code",
      "source": [
        "num = int(input(\"Enter an integer: \"))\n",
        "\n",
        "if num > 0:\n",
        "    print(\"Positive\")\n",
        "elif num < 0:\n",
        "    print(\"Negative\")\n",
        "else:\n",
        "    print(\"Zero\")"
      ],
      "metadata": {
        "colab": {
          "base_uri": "https://localhost:8080/"
        },
        "id": "oZKnSxyMpOlN",
        "outputId": "382a46ed-1d2a-48aa-aa76-ebadf8bafcf2"
      },
      "execution_count": 1,
      "outputs": [
        {
          "output_type": "stream",
          "name": "stdout",
          "text": [
            "Enter an integer: 4\n",
            "Positive\n"
          ]
        }
      ]
    },
    {
      "cell_type": "markdown",
      "source": [
        "2.One-Way Decision:"
      ],
      "metadata": {
        "id": "YQnnBvpcpT4l"
      }
    },
    {
      "cell_type": "code",
      "source": [
        "x = 5\n",
        "\n",
        "if x > 2:\n",
        "    print('Bigger than 2')\n",
        "    print('Still bigger')\n",
        "else:\n",
        "    print('Number is too small')\n",
        "\n",
        "print('Done with 2')"
      ],
      "metadata": {
        "colab": {
          "base_uri": "https://localhost:8080/"
        },
        "id": "dd0TT4BGpW89",
        "outputId": "84125751-1d97-4515-9a36-2cd6908fc49c"
      },
      "execution_count": 2,
      "outputs": [
        {
          "output_type": "stream",
          "name": "stdout",
          "text": [
            "Bigger than 2\n",
            "Still bigger\n",
            "Done with 2\n"
          ]
        }
      ]
    },
    {
      "cell_type": "markdown",
      "source": [
        "3.Indentation:"
      ],
      "metadata": {
        "id": "WebOaVVypZXV"
      }
    },
    {
      "cell_type": "code",
      "source": [
        "x = 5\n",
        "\n",
        "if x > 2:\n",
        "    print('Bigger than 2')\n",
        "    print('Still bigger')\n",
        "\n",
        "print('Done with 2')"
      ],
      "metadata": {
        "colab": {
          "base_uri": "https://localhost:8080/"
        },
        "id": "7CU1THsBpdZk",
        "outputId": "76f791c2-b4df-4658-989e-acda7ab78a62"
      },
      "execution_count": 3,
      "outputs": [
        {
          "output_type": "stream",
          "name": "stdout",
          "text": [
            "Bigger than 2\n",
            "Still bigger\n",
            "Done with 2\n"
          ]
        }
      ]
    },
    {
      "cell_type": "markdown",
      "source": [
        "4.Nested Decisions:"
      ],
      "metadata": {
        "id": "I4PKsmsRpgA_"
      }
    },
    {
      "cell_type": "code",
      "source": [
        "num = int(input(\"Enter an integer: \"))\n",
        "\n",
        "if 10 <= num <= 20:\n",
        "    print(\"Within range\")\n",
        "else:\n",
        "    print(\"Out of range\")"
      ],
      "metadata": {
        "colab": {
          "base_uri": "https://localhost:8080/"
        },
        "id": "tEB4pCsipjmK",
        "outputId": "185142d6-8b76-470b-c836-686eb54b6993"
      },
      "execution_count": 4,
      "outputs": [
        {
          "output_type": "stream",
          "name": "stdout",
          "text": [
            "Enter an integer: 2\n",
            "Out of range\n"
          ]
        }
      ]
    },
    {
      "cell_type": "markdown",
      "source": [
        "5.Two-Way Decision:"
      ],
      "metadata": {
        "id": "tWJbs5ZopoPZ"
      }
    },
    {
      "cell_type": "code",
      "source": [
        "x = 4\n",
        "\n",
        "if x > 2:\n",
        "    print('Bigger')\n",
        "elif x == 2:\n",
        "    print('Equal')\n",
        "else:\n",
        "    print('Smaller')\n",
        "\n",
        "print('All done')"
      ],
      "metadata": {
        "colab": {
          "base_uri": "https://localhost:8080/"
        },
        "id": "SMDQqhqhpsyj",
        "outputId": "d8dabe45-cc50-458a-a42d-453fd632e386"
      },
      "execution_count": 5,
      "outputs": [
        {
          "output_type": "stream",
          "name": "stdout",
          "text": [
            "Bigger\n",
            "All done\n"
          ]
        }
      ]
    },
    {
      "cell_type": "markdown",
      "source": [
        "6.Multi-Way Decision:"
      ],
      "metadata": {
        "id": "ivkyX01Epy1Z"
      }
    },
    {
      "cell_type": "code",
      "source": [
        "num = int(input(\"Enter an integer: \"))\n",
        "\n",
        "if num < 10:\n",
        "    print(\"Small\")\n",
        "elif 10 <= num <= 20:\n",
        "    print(\"Medium\")\n",
        "else:\n",
        "    print(\"Large\")"
      ],
      "metadata": {
        "colab": {
          "base_uri": "https://localhost:8080/"
        },
        "id": "sHYKs2Gjp1-p",
        "outputId": "1ad9ec00-8b77-4719-974f-18a613fa138b"
      },
      "execution_count": 6,
      "outputs": [
        {
          "output_type": "stream",
          "name": "stdout",
          "text": [
            "Enter an integer: 2\n",
            "Small\n"
          ]
        }
      ]
    },
    {
      "cell_type": "markdown",
      "source": [
        "7.Try/Except Structure:"
      ],
      "metadata": {
        "id": "nfTvR1Mtp5sN"
      }
    },
    {
      "cell_type": "code",
      "source": [
        "try:\n",
        "    rawstr = input('Enter a number: ')\n",
        "    ival = int(rawstr)\n",
        "\n",
        "    if ival > 0:\n",
        "        print('Nice work')\n",
        "    else:\n",
        "        print('Not a positive number')\n",
        "except ValueError:\n",
        "    print('Not a number')"
      ],
      "metadata": {
        "colab": {
          "base_uri": "https://localhost:8080/"
        },
        "id": "3Q1rRz-Kp9SD",
        "outputId": "183db97b-7464-470d-ef73-6a44af031ae1"
      },
      "execution_count": 7,
      "outputs": [
        {
          "output_type": "stream",
          "name": "stdout",
          "text": [
            "Enter a number: 3\n",
            "Nice work\n"
          ]
        }
      ]
    },
    {
      "cell_type": "markdown",
      "source": [
        "8.Exercise with Computation:"
      ],
      "metadata": {
        "id": "GuS4CDMiqBWI"
      }
    },
    {
      "cell_type": "code",
      "source": [
        "hours = float(input(\"Enter hours worked: \"))\n",
        "rate = float(input(\"Enter hourly rate: \"))\n",
        "\n",
        "if hours > 40:\n",
        "    extra_hours = hours - 40\n",
        "    gross_pay = (40 * rate) + (extra_hours * rate * 1.5)\n",
        "else:\n",
        "    gross_pay = hours * rate\n",
        "\n",
        "print(\"Gross pay:\", gross_pay)"
      ],
      "metadata": {
        "colab": {
          "base_uri": "https://localhost:8080/"
        },
        "id": "Jb0gHaovqFTC",
        "outputId": "9e482866-dc3e-4f6b-914d-98957f9eeabe"
      },
      "execution_count": 8,
      "outputs": [
        {
          "output_type": "stream",
          "name": "stdout",
          "text": [
            "Enter hours worked: 5\n",
            "Enter hourly rate: 4\n",
            "Gross pay: 20.0\n"
          ]
        }
      ]
    },
    {
      "cell_type": "markdown",
      "source": [
        "9.Logical Operators:"
      ],
      "metadata": {
        "id": "_rom34PqqKBb"
      }
    },
    {
      "cell_type": "code",
      "source": [
        "num1 = int(input(\"Enter first integer: \"))\n",
        "num2 = int(input(\"Enter second integer: \"))\n",
        "\n",
        "if num1 > 0 and num2 > 0:\n",
        "    print(\"Both are positive\")\n",
        "elif num1 > 0 or num2 > 0:\n",
        "    print(\"One is positive\")\n",
        "else:\n",
        "    print(\"None are positive\")"
      ],
      "metadata": {
        "colab": {
          "base_uri": "https://localhost:8080/"
        },
        "id": "XcOeNY7wqNQe",
        "outputId": "f4101cda-15df-47be-cfd0-aee85fa3ce92"
      },
      "execution_count": 9,
      "outputs": [
        {
          "output_type": "stream",
          "name": "stdout",
          "text": [
            "Enter first integer: 3\n",
            "Enter second integer: 5\n",
            "Both are positive\n"
          ]
        }
      ]
    },
    {
      "cell_type": "markdown",
      "source": [
        "10.Comparison and Logical Operators:"
      ],
      "metadata": {
        "id": "2zVkMo4OqSiR"
      }
    },
    {
      "cell_type": "code",
      "source": [
        "num = int(input(\"Enter an integer: \"))\n",
        "\n",
        "if num > 0 and num % 2 == 0:\n",
        "    print(\"Positive and even\")\n",
        "elif num > 0 and num % 2 != 0:\n",
        "    print(\"Positive but odd\")\n",
        "else:\n",
        "    print(\"Negative\")"
      ],
      "metadata": {
        "id": "-IlPnLowqW0g",
        "outputId": "4c093a35-6592-4366-d5c0-63bbed15c0ce",
        "colab": {
          "base_uri": "https://localhost:8080/"
        }
      },
      "execution_count": 10,
      "outputs": [
        {
          "output_type": "stream",
          "name": "stdout",
          "text": [
            "Enter an integer: 6\n",
            "Positive and even\n"
          ]
        }
      ]
    }
  ]
}