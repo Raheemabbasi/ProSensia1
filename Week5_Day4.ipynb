{
  "nbformat": 4,
  "nbformat_minor": 0,
  "metadata": {
    "colab": {
      "provenance": [],
      "authorship_tag": "ABX9TyNTj+NiU6/ZYqMQM7XqH4zI",
      "include_colab_link": true
    },
    "kernelspec": {
      "name": "python3",
      "display_name": "Python 3"
    },
    "language_info": {
      "name": "python"
    }
  },
  "cells": [
    {
      "cell_type": "markdown",
      "metadata": {
        "id": "view-in-github",
        "colab_type": "text"
      },
      "source": [
        "<a href=\"https://colab.research.google.com/github/Raheemabbasi/ProSensia1/blob/main/Week5_Day4.ipynb\" target=\"_parent\"><img src=\"https://colab.research.google.com/assets/colab-badge.svg\" alt=\"Open In Colab\"/></a>"
      ]
    },
    {
      "cell_type": "markdown",
      "source": [
        "Basic Inventory Management System"
      ],
      "metadata": {
        "id": "CRzZSGiLiud-"
      }
    },
    {
      "cell_type": "code",
      "source": [
        "# inventory_management.py\n",
        "\n",
        "inventory = []\n",
        "\n",
        "# Function to add a new product\n",
        "def add_product():\n",
        "    product_name = input(\"Enter product name: \").strip()\n",
        "    try:\n",
        "        price = float(input(\"Enter product price: \"))\n",
        "        quantity = int(input(\"Enter product quantity: \"))\n",
        "    except ValueError:\n",
        "        print(\"Invalid input! Price must be a float and quantity must be an integer.\")\n",
        "        return\n",
        "\n",
        "    # Check if the product already exists (case-insensitive)\n",
        "    for product in inventory:\n",
        "        if product[\"name\"].lower() == product_name.lower():\n",
        "            print(\"Product already exists!\")\n",
        "            return\n",
        "\n",
        "    # Add the new product to the inventory\n",
        "    product = {\n",
        "        \"name\": product_name,\n",
        "        \"price\": price,\n",
        "        \"quantity\": quantity\n",
        "    }\n",
        "    inventory.append(product)\n",
        "    print(f\"{product_name} added successfully.\")\n",
        "\n",
        "# Function to update the quantity of an existing product\n",
        "def update_product_quantity():\n",
        "    product_name = input(\"Enter the product name to update: \").strip()\n",
        "\n",
        "    # Search for the product by name (case-insensitive search)\n",
        "    for product in inventory:\n",
        "        if product[\"name\"].lower() == product_name.lower():\n",
        "            try:\n",
        "                new_quantity = int(input(f\"Enter the new quantity for {product_name}: \"))\n",
        "                product[\"quantity\"] = new_quantity\n",
        "                print(f\"Quantity for {product_name} updated successfully.\")\n",
        "                return\n",
        "            except ValueError:\n",
        "                print(\"Invalid input! Quantity must be an integer.\")\n",
        "                return\n",
        "\n",
        "    print(f\"Product '{product_name}' not found!\")\n",
        "\n",
        "# Function to display all products in the inventory\n",
        "def display_inventory():\n",
        "    if not inventory:\n",
        "        print(\"The inventory is empty.\")\n",
        "    else:\n",
        "        print(\"\\nCurrent Inventory:\")\n",
        "        for product in inventory:\n",
        "            print(f\"Name: {product['name']}, Price: ${product['price']:.2f}, Quantity: {product['quantity']}\")\n",
        "\n",
        "# Main function to manage the inventory workflow\n",
        "def main():\n",
        "    while True:\n",
        "        print(\"\\nInventory Management System\")\n",
        "        print(\"1. Add a New Product\")\n",
        "        print(\"2. Update Product Quantity\")\n",
        "        print(\"3. View Inventory\")\n",
        "        print(\"4. Exit\")\n",
        "\n",
        "        choice = input(\"Choose an option (1-4): \").strip()\n",
        "\n",
        "        if choice == \"1\":\n",
        "            add_product()\n",
        "        elif choice == \"2\":\n",
        "            update_product_quantity()\n",
        "        elif choice == \"3\":\n",
        "            display_inventory()\n",
        "        elif choice == \"4\":\n",
        "            print(\"Exiting the inventory system.\")\n",
        "            break\n",
        "        else:\n",
        "            print(\"Invalid choice! Please select a valid option (1-4).\")\n",
        "\n",
        "# Start the program\n",
        "if __name__ == \"__main__\":\n",
        "    main()"
      ],
      "metadata": {
        "colab": {
          "base_uri": "https://localhost:8080/"
        },
        "id": "nCyhPB5si30m",
        "outputId": "3e0f58d4-351a-42d2-e5ef-a591fca5d9a7"
      },
      "execution_count": 1,
      "outputs": [
        {
          "output_type": "stream",
          "name": "stdout",
          "text": [
            "\n",
            "Inventory Management System\n",
            "1. Add a New Product\n",
            "2. Update Product Quantity\n",
            "3. View Inventory\n",
            "4. Exit\n",
            "Choose an option (1-4): 1\n",
            "Enter product name: Table\n",
            "Enter product price: 500$\n",
            "Invalid input! Price must be a float and quantity must be an integer.\n",
            "\n",
            "Inventory Management System\n",
            "1. Add a New Product\n",
            "2. Update Product Quantity\n",
            "3. View Inventory\n",
            "4. Exit\n",
            "Choose an option (1-4): 3\n",
            "The inventory is empty.\n",
            "\n",
            "Inventory Management System\n",
            "1. Add a New Product\n",
            "2. Update Product Quantity\n",
            "3. View Inventory\n",
            "4. Exit\n",
            "Choose an option (1-4): 1\n",
            "Enter product name: Table\n",
            "Enter product price: 500\n",
            "Enter product quantity: 2\n",
            "Table added successfully.\n",
            "\n",
            "Inventory Management System\n",
            "1. Add a New Product\n",
            "2. Update Product Quantity\n",
            "3. View Inventory\n",
            "4. Exit\n",
            "Choose an option (1-4): 3\n",
            "\n",
            "Current Inventory:\n",
            "Name: Table, Price: $500.00, Quantity: 2\n",
            "\n",
            "Inventory Management System\n",
            "1. Add a New Product\n",
            "2. Update Product Quantity\n",
            "3. View Inventory\n",
            "4. Exit\n",
            "Choose an option (1-4): 4\n",
            "Exiting the inventory system.\n"
          ]
        }
      ]
    }
  ]
}