{
  "nbformat": 4,
  "nbformat_minor": 0,
  "metadata": {
    "colab": {
      "provenance": [],
      "authorship_tag": "ABX9TyPoxmShyfhbOEt+OGYj/7M9",
      "include_colab_link": true
    },
    "kernelspec": {
      "name": "python3",
      "display_name": "Python 3"
    },
    "language_info": {
      "name": "python"
    }
  },
  "cells": [
    {
      "cell_type": "markdown",
      "metadata": {
        "id": "view-in-github",
        "colab_type": "text"
      },
      "source": [
        "<a href=\"https://colab.research.google.com/github/Raheemabbasi/LAB-1/blob/main/raheem.ipynb\" target=\"_parent\"><img src=\"https://colab.research.google.com/assets/colab-badge.svg\" alt=\"Open In Colab\"/></a>"
      ]
    },
    {
      "cell_type": "markdown",
      "source": [
        "# 1. Difference between assignment operator (=) and equality operator (==):"
      ],
      "metadata": {
        "id": "GYZOuh-OztDv"
      }
    },
    {
      "cell_type": "code",
      "source": [
        "x = 5  # Assignment operator\n",
        "if x == 5:  # Equality operator\n",
        "    print(\"x is equal to 5\")"
      ],
      "metadata": {
        "id": "nJmwqgyDzvZZ"
      },
      "execution_count": null,
      "outputs": []
    },
    {
      "cell_type": "markdown",
      "source": [
        "# 2. Explore all kinds/data types of variables:"
      ],
      "metadata": {
        "id": "TWGlfyFuz1F6"
      }
    },
    {
      "cell_type": "code",
      "source": [
        "integer_var = 10  # Integer variable\n",
        "float_var = 3.14  # Floating-point variable\n",
        "string_var = \"Hello, World!\"  # String variable\n",
        "bool_var = True  # Boolean variable"
      ],
      "metadata": {
        "id": "impITrp-z5dS"
      },
      "execution_count": null,
      "outputs": []
    },
    {
      "cell_type": "markdown",
      "source": [
        "# 3. Rules for variable names:"
      ],
      "metadata": {
        "id": "WR5M1NMjz9oP"
      }
    },
    {
      "cell_type": "code",
      "source": [
        "my_variable = 10\n",
        "myVar = \"Hello\"\n",
        "_this_is_variable = True"
      ],
      "metadata": {
        "id": "ZL-wWMZY0Dv9"
      },
      "execution_count": null,
      "outputs": []
    },
    {
      "cell_type": "markdown",
      "source": [
        "# 4. Declare and initialize multiple variables in a single line"
      ],
      "metadata": {
        "id": "FughDVw40GmQ"
      }
    },
    {
      "cell_type": "code",
      "source": [
        "a, b, c = 1, 2, 3  # Single variable with multiple values\n",
        "x = y = z = 10  # Multiple variables with single values\n",
        "print(a, b, c)\n",
        "print(x, y, z)"
      ],
      "metadata": {
        "id": "qxpfYjje0WfJ"
      },
      "execution_count": null,
      "outputs": []
    },
    {
      "cell_type": "markdown",
      "source": [
        "# 5. Perform arithmetic operations:"
      ],
      "metadata": {
        "id": "tZ5yiOVX0af5"
      }
    },
    {
      "cell_type": "code",
      "source": [
        "a = 10\n",
        "b = 5\n",
        "print(\"Addition:\", a + b)\n",
        "print(\"Subtraction:\", a - b)\n",
        "print(\"Multiplication:\", a * b)\n",
        "print(\"Division:\", a / b)\n",
        "\n",
        "x = 3.5\n",
        "y = 2.0\n",
        "print(\"Addition:\", x + y)\n",
        "print(\"Subtraction:\", x - y)\n",
        "print(\"Multiplication:\", x * y)\n",
        "print(\"Division:\", x / y)\n"
      ],
      "metadata": {
        "id": "YJbKQaeL0eaZ"
      },
      "execution_count": null,
      "outputs": []
    },
    {
      "cell_type": "markdown",
      "source": [
        "# 6. String literals"
      ],
      "metadata": {
        "id": "T1TylbYC0ish"
      }
    },
    {
      "cell_type": "code",
      "source": [
        "single_quote_string = 'This is a single quoted string'\n",
        "double_quote_string = \"This is a double quoted string\"\n",
        "single_quote_within_double = \"He said, 'Hello!'\"\n",
        "double_quote_within_single = 'She said, \"Hi!\"'\n",
        "print(single_quote_string)\n",
        "print(double_quote_string)\n",
        "print(single_quote_within_double)\n",
        "print(double_quote_within_single)"
      ],
      "metadata": {
        "id": "JJGdJ5sJ0mQ7"
      },
      "execution_count": null,
      "outputs": []
    },
    {
      "cell_type": "markdown",
      "source": [
        "# 7. Examples with print() function:"
      ],
      "metadata": {
        "id": "vp2c8RxU0rYT"
      }
    },
    {
      "cell_type": "code",
      "source": [
        "name = \"Alice\"\n",
        "age = 30\n",
        "print(\"Hello,\", name)  # Example of using the print() function to output a variable\n",
        "print(\"Name:\", name, \"Age:\", age)  # Example of outputting multiple variables with print()\n",
        "print(f\"My name is {name} and I am {age} years old\")  # Example of using f-strings to format output\n",
        "result = 10 * 5\n",
        "print(f\"The result of 10 * 5 is {result}\")  # Example of using f-strings to manipulate variables in output\n",
        "\n",
        "# Variable Shadowing:\n",
        "\n",
        "x = 10\n",
        "\n",
        "def my_function():\n",
        "    x = 20  # This 'x' shadows the outer 'x'\n",
        "    print(\"Inside function:\", x)\n",
        "\n",
        "my_function()\n",
        "print(\"Outside function:\", x)"
      ],
      "metadata": {
        "id": "DfjS2EBZ0vS1"
      },
      "execution_count": null,
      "outputs": []
    }
  ]
}
