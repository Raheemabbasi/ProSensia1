{
  "nbformat": 4,
  "nbformat_minor": 0,
  "metadata": {
    "colab": {
      "provenance": [],
      "authorship_tag": "ABX9TyO7shKJETWhV2iNJY17nakz",
      "include_colab_link": true
    },
    "kernelspec": {
      "name": "python3",
      "display_name": "Python 3"
    },
    "language_info": {
      "name": "python"
    }
  },
  "cells": [
    {
      "cell_type": "markdown",
      "metadata": {
        "id": "view-in-github",
        "colab_type": "text"
      },
      "source": [
        "<a href=\"https://colab.research.google.com/github/Raheemabbasi/ProSensia1/blob/main/Week3_Day2.ipynb\" target=\"_parent\"><img src=\"https://colab.research.google.com/assets/colab-badge.svg\" alt=\"Open In Colab\"/></a>"
      ]
    },
    {
      "cell_type": "markdown",
      "source": [
        "1.String to Integer with Fallback"
      ],
      "metadata": {
        "id": "q5KaFeNaAdLT"
      }
    },
    {
      "cell_type": "code",
      "source": [
        "def string_to_integer_with_fallback(s, default):\n",
        "    try:\n",
        "        return int(s)\n",
        "    except ValueError:\n",
        "        return default\n",
        "\n",
        "print(string_to_integer_with_fallback(\"123\", 0))  # Output: 123\n",
        "print(string_to_integer_with_fallback(\"abc\", 0))  # Output: 0"
      ],
      "metadata": {
        "colab": {
          "base_uri": "https://localhost:8080/"
        },
        "id": "PLob9rzCAi7T",
        "outputId": "40b0036b-3b05-4831-edc3-251a4a099dd2"
      },
      "execution_count": 1,
      "outputs": [
        {
          "output_type": "stream",
          "name": "stdout",
          "text": [
            "123\n",
            "0\n"
          ]
        }
      ]
    },
    {
      "cell_type": "markdown",
      "source": [
        "2.Integer to String with Formatting"
      ],
      "metadata": {
        "id": "9iTXO-vmArT5"
      }
    },
    {
      "cell_type": "code",
      "source": [
        "def integer_to_string_with_format(n, format_specifier):\n",
        "    return format(n, format_specifier)\n",
        "\n",
        "print(integer_to_string_with_format(123, '04d'))  # Output: 0123\n",
        "print(integer_to_string_with_format(123, 'e'))    # Output: 1.230000e+02"
      ],
      "metadata": {
        "colab": {
          "base_uri": "https://localhost:8080/"
        },
        "id": "VEXA_C6aAvTM",
        "outputId": "c0d769f2-0a06-4fcf-f2e3-d5ed70e9699f"
      },
      "execution_count": 2,
      "outputs": [
        {
          "output_type": "stream",
          "name": "stdout",
          "text": [
            "0123\n",
            "1.230000e+02\n"
          ]
        }
      ]
    },
    {
      "cell_type": "markdown",
      "source": [
        "3.Float to Integer with Multiple Rounding Options"
      ],
      "metadata": {
        "id": "iwhDsOaWAyp-"
      }
    },
    {
      "cell_type": "code",
      "source": [
        "import math\n",
        "\n",
        "def float_to_integer_with_rounding(f, strategy):\n",
        "    if strategy == \"up\":\n",
        "        return math.ceil(f)\n",
        "    elif strategy == \"down\":\n",
        "        return math.floor(f)\n",
        "    elif strategy == \"nearest\":\n",
        "        return round(f)\n",
        "    else:\n",
        "        raise ValueError(\"Invalid rounding strategy\")\n",
        "\n",
        "print(float_to_integer_with_rounding(123.456, \"up\"))       # Output: 124\n",
        "print(float_to_integer_with_rounding(123.456, \"down\"))     # Output: 123\n",
        "print(float_to_integer_with_rounding(123.456, \"nearest\"))  # Output: 123"
      ],
      "metadata": {
        "colab": {
          "base_uri": "https://localhost:8080/"
        },
        "id": "J0zG1YV5A2g0",
        "outputId": "c359b724-62d7-4232-c6ba-ab055523cde2"
      },
      "execution_count": 3,
      "outputs": [
        {
          "output_type": "stream",
          "name": "stdout",
          "text": [
            "124\n",
            "123\n",
            "123\n"
          ]
        }
      ]
    },
    {
      "cell_type": "markdown",
      "source": [
        "4.List of Strings to List of Integers with Error Logging"
      ],
      "metadata": {
        "id": "E3xWcRHDA6Bq"
      }
    },
    {
      "cell_type": "code",
      "source": [
        "def list_strings_to_integers_with_logging(strings):\n",
        "    integers = []\n",
        "    errors = []\n",
        "    for s in strings:\n",
        "        try:\n",
        "            integers.append(int(s))\n",
        "        except ValueError as e:\n",
        "            errors.append(str(e))\n",
        "    return integers, errors\n",
        "\n",
        "ints, errs = list_strings_to_integers_with_logging([\"123\", \"abc\", \"456\"])\n",
        "print(ints)  # Output: [123, 456]\n",
        "print(errs)  # Output: [\"invalid literal for int() with base 10: 'abc'\"]"
      ],
      "metadata": {
        "colab": {
          "base_uri": "https://localhost:8080/"
        },
        "id": "ebHLq4xDA-Ou",
        "outputId": "515d0314-bc13-41c1-d9f6-ac6c12664d8e"
      },
      "execution_count": 4,
      "outputs": [
        {
          "output_type": "stream",
          "name": "stdout",
          "text": [
            "[123, 456]\n",
            "[\"invalid literal for int() with base 10: 'abc'\"]\n"
          ]
        }
      ]
    },
    {
      "cell_type": "markdown",
      "source": [
        "5.Addition with Type Enforcement"
      ],
      "metadata": {
        "id": "FqyOwA7yBB3V"
      }
    },
    {
      "cell_type": "code",
      "source": [
        "class NotANumberError(Exception):\n",
        "    pass\n",
        "\n",
        "def add_numbers_with_type_enforcement(a, b):\n",
        "    if not (isinstance(a, (int, float)) and isinstance(b, (int, float))):\n",
        "        raise NotANumberError(\"Both inputs must be numbers\")\n",
        "    return a + b\n",
        "\n",
        "print(add_numbers_with_type_enforcement(3, 5))  # Output: 8\n",
        "# print(add_numbers_with_type_enforcement(3, \"5\"))  # Raises NotANumberError"
      ],
      "metadata": {
        "colab": {
          "base_uri": "https://localhost:8080/"
        },
        "id": "mF4o36hPBFkf",
        "outputId": "725d79c0-ab87-40ca-870d-50dfe9a4e597"
      },
      "execution_count": 5,
      "outputs": [
        {
          "output_type": "stream",
          "name": "stdout",
          "text": [
            "8\n"
          ]
        }
      ]
    },
    {
      "cell_type": "markdown",
      "source": [
        "6.Cumulative Subtraction with List Validation"
      ],
      "metadata": {
        "id": "KoT-G6h8BJUN"
      }
    },
    {
      "cell_type": "code",
      "source": [
        "def cumulative_subtraction(numbers):\n",
        "    if not all(isinstance(n, (int, float)) for n in numbers):\n",
        "        raise ValueError(\"All elements must be numbers\")\n",
        "    if len(numbers) < 2:\n",
        "        raise ValueError(\"List must contain at least two elements\")\n",
        "\n",
        "    result = numbers[0]\n",
        "    for n in numbers[1:]:\n",
        "        result -= n\n",
        "    return result\n",
        "\n",
        "print(cumulative_subtraction([10, 3, 2]))  # Output: 5\n",
        "# print(cumulative_subtraction([10]))  # Raises ValueError\n",
        "# print(cumulative_subtraction([10, \"2\"]))  # Raises ValueError"
      ],
      "metadata": {
        "colab": {
          "base_uri": "https://localhost:8080/"
        },
        "id": "IS9OjIxFBMp5",
        "outputId": "6ca3725c-1eb9-41d2-fc53-15375f0848b5"
      },
      "execution_count": 6,
      "outputs": [
        {
          "output_type": "stream",
          "name": "stdout",
          "text": [
            "5\n"
          ]
        }
      ]
    },
    {
      "cell_type": "markdown",
      "source": [
        "7.Exponentiation Table"
      ],
      "metadata": {
        "id": "Nyf5aOyqBPvS"
      }
    },
    {
      "cell_type": "code",
      "source": [
        "def exponentiation_table(base, exponent_range):\n",
        "    table = []\n",
        "    for i in range(1, exponent_range + 1):\n",
        "        result = base ** i\n",
        "        table.append(f\"{base}^{i} = {result}\")\n",
        "    return table\n",
        "\n",
        "print(exponentiation_table(2, 5))\n",
        "# Output: ['2^1 = 2', '2^2 = 4', '2^3 = 8', '2^4 = 16', '2^5 = 32']"
      ],
      "metadata": {
        "colab": {
          "base_uri": "https://localhost:8080/"
        },
        "id": "x-7ud8I8BTWW",
        "outputId": "88fe678f-a9cc-46a1-b5b6-b6d45c6c6c21"
      },
      "execution_count": 7,
      "outputs": [
        {
          "output_type": "stream",
          "name": "stdout",
          "text": [
            "['2^1 = 2', '2^2 = 4', '2^3 = 8', '2^4 = 16', '2^5 = 32']\n"
          ]
        }
      ]
    },
    {
      "cell_type": "markdown",
      "source": [
        "8.Safe Division with Custom Error Handling"
      ],
      "metadata": {
        "id": "_MYrEZYyBWQ5"
      }
    },
    {
      "cell_type": "code",
      "source": [
        "class DivisionByZeroError(Exception):\n",
        "    pass\n",
        "\n",
        "def safe_division(a, b, precision):\n",
        "    if b == 0:\n",
        "        raise DivisionByZeroError(\"Cannot divide by zero\")\n",
        "    return round(a / b, precision)\n",
        "\n",
        "print(safe_division(8, 2, 2))  # Output: 4.0\n",
        "# print(safe_division(8, 0, 2))  # Raises DivisionByZeroError"
      ],
      "metadata": {
        "colab": {
          "base_uri": "https://localhost:8080/"
        },
        "id": "LuOC2hYzBaRv",
        "outputId": "a9ce52fc-50c4-4750-b87b-a837429455d4"
      },
      "execution_count": 8,
      "outputs": [
        {
          "output_type": "stream",
          "name": "stdout",
          "text": [
            "4.0\n"
          ]
        }
      ]
    },
    {
      "cell_type": "markdown",
      "source": [
        "9.Advanced String Split and Conditional Join"
      ],
      "metadata": {
        "id": "PZXs7Z82BdM5"
      }
    },
    {
      "cell_type": "code",
      "source": [
        "def split_and_join(s, split_delimiter, join_delimiter):\n",
        "    parts = s.split(split_delimiter)\n",
        "    filtered_parts = [part for part in parts if len(part) > 3]\n",
        "    return join_delimiter.join(filtered_parts)\n",
        "\n",
        "print(split_and_join(\"hello:world:python:code\", \":\", \"-\"))  # Output: hello-world-python"
      ],
      "metadata": {
        "colab": {
          "base_uri": "https://localhost:8080/"
        },
        "id": "wZ8Lza4mBgoN",
        "outputId": "06ed6977-96d4-4ad2-df16-aaed37baa997"
      },
      "execution_count": 9,
      "outputs": [
        {
          "output_type": "stream",
          "name": "stdout",
          "text": [
            "hello-world-python-code\n"
          ]
        }
      ]
    },
    {
      "cell_type": "markdown",
      "source": [
        "10.Enhanced Palindrome Check with Character Frequency Analysis"
      ],
      "metadata": {
        "id": "eIKAqUE7BkEC"
      }
    },
    {
      "cell_type": "code",
      "source": [
        "import re\n",
        "from collections import Counter\n",
        "\n",
        "def enhanced_palindrome_check(s):\n",
        "    cleaned = re.sub(r'[^A-Za-z0-9]', '', s).lower()\n",
        "    is_palindrome = cleaned == cleaned[::-1]\n",
        "    frequency = Counter(cleaned)\n",
        "    return is_palindrome, frequency\n",
        "\n",
        "print(enhanced_palindrome_check(\"A man, a plan, a canal, Panama\"))"
      ],
      "metadata": {
        "colab": {
          "base_uri": "https://localhost:8080/"
        },
        "id": "A7TbcyohBnmO",
        "outputId": "d94d3afd-7862-497b-f781-91b331441120"
      },
      "execution_count": 10,
      "outputs": [
        {
          "output_type": "stream",
          "name": "stdout",
          "text": [
            "(True, Counter({'a': 10, 'n': 4, 'm': 2, 'p': 2, 'l': 2, 'c': 1}))\n"
          ]
        }
      ]
    }
  ]
}