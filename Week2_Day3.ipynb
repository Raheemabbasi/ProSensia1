{
  "nbformat": 4,
  "nbformat_minor": 0,
  "metadata": {
    "colab": {
      "provenance": [],
      "authorship_tag": "ABX9TyOOweZcXgaBeI3sEcg9Ufwf",
      "include_colab_link": true
    },
    "kernelspec": {
      "name": "python3",
      "display_name": "Python 3"
    },
    "language_info": {
      "name": "python"
    }
  },
  "cells": [
    {
      "cell_type": "markdown",
      "metadata": {
        "id": "view-in-github",
        "colab_type": "text"
      },
      "source": [
        "<a href=\"https://colab.research.google.com/github/Raheemabbasi/Programming-for-AI-Lab/blob/main/Week2_Day3.ipynb\" target=\"_parent\"><img src=\"https://colab.research.google.com/assets/colab-badge.svg\" alt=\"Open In Colab\"/></a>"
      ]
    },
    {
      "cell_type": "code",
      "execution_count": null,
      "metadata": {
        "colab": {
          "base_uri": "https://localhost:8080/"
        },
        "id": "dessrUsn2Scv",
        "outputId": "8556f6ae-19f3-4c83-f087-b934cf3b5751"
      },
      "outputs": [
        {
          "output_type": "stream",
          "name": "stdout",
          "text": [
            "Hello, World!\n"
          ]
        }
      ],
      "source": [
        "def print_greeting():\n",
        "    print(\"Hello, World!\")\n",
        "\n",
        "print_greeting()"
      ]
    },
    {
      "cell_type": "code",
      "source": [
        "def max_value(s):\n",
        "    return max(s)\n",
        "\n",
        "result = max_value(\"Hello World\")\n",
        "print(result)"
      ],
      "metadata": {
        "colab": {
          "base_uri": "https://localhost:8080/"
        },
        "id": "nsrtfVJq3j5B",
        "outputId": "41feead7-6ede-4248-cd0f-38495e53fe8e"
      },
      "execution_count": null,
      "outputs": [
        {
          "output_type": "stream",
          "name": "stdout",
          "text": [
            "r\n"
          ]
        }
      ]
    },
    {
      "cell_type": "code",
      "source": [
        "def convert_to_float(n):\n",
        "    return float(n)\n",
        "\n",
        "result = convert_to_float(42)\n",
        "print(result)"
      ],
      "metadata": {
        "colab": {
          "base_uri": "https://localhost:8080/"
        },
        "id": "uPeC44Sb3qNN",
        "outputId": "476b559b-9170-44fb-935a-9744aa740432"
      },
      "execution_count": null,
      "outputs": [
        {
          "output_type": "stream",
          "name": "stdout",
          "text": [
            "42.0\n"
          ]
        }
      ]
    },
    {
      "cell_type": "code",
      "source": [
        "def add_numbers(a, b):\n",
        "    return a + b\n",
        "\n",
        "result = add_numbers(10, 20)\n",
        "print(result)"
      ],
      "metadata": {
        "colab": {
          "base_uri": "https://localhost:8080/"
        },
        "id": "HvfVc01J35GY",
        "outputId": "144284b7-7846-4492-9e26-4da56317517e"
      },
      "execution_count": null,
      "outputs": [
        {
          "output_type": "stream",
          "name": "stdout",
          "text": [
            "30\n"
          ]
        }
      ]
    },
    {
      "cell_type": "code",
      "source": [
        "def greet(language_code):\n",
        "    greetings = {'en': \"Hello\", 'es': \"Hola\", 'fr': \"Bonjour\"}\n",
        "    print(greetings.get(language_code, \"Hello\"))\n",
        "\n",
        "greet('en')\n",
        "greet('es')\n",
        "greet('fr')"
      ],
      "metadata": {
        "colab": {
          "base_uri": "https://localhost:8080/"
        },
        "id": "mGOXpR_q3765",
        "outputId": "787ec591-00ac-45d9-b82a-ab7769248e77"
      },
      "execution_count": null,
      "outputs": [
        {
          "output_type": "stream",
          "name": "stdout",
          "text": [
            "Hello\n",
            "Hola\n",
            "Bonjour\n"
          ]
        }
      ]
    },
    {
      "cell_type": "code",
      "source": [
        "def compute_pay(hours, rate):\n",
        "    if hours > 40:\n",
        "        overtime_hours = hours - 40\n",
        "        overtime_pay = overtime_hours * rate * 1.5\n",
        "        return (40 * rate) + overtime_pay\n",
        "    else:\n",
        "        return hours * rate\n",
        "\n",
        "pay = compute_pay(45, 10)\n",
        "print(pay)"
      ],
      "metadata": {
        "colab": {
          "base_uri": "https://localhost:8080/"
        },
        "id": "l2sgvIBC3_aG",
        "outputId": "55255d89-a908-46ac-aea0-a77e4146a76e"
      },
      "execution_count": null,
      "outputs": [
        {
          "output_type": "stream",
          "name": "stdout",
          "text": [
            "475.0\n"
          ]
        }
      ]
    },
    {
      "cell_type": "code",
      "source": [
        "def is_integer(s):\n",
        "    try:\n",
        "        int(s)\n",
        "        return True\n",
        "    except ValueError:\n",
        "        return False\n",
        "\n",
        "print(is_integer(\"123\"))\n",
        "print(is_integer(\"hello\"))"
      ],
      "metadata": {
        "colab": {
          "base_uri": "https://localhost:8080/"
        },
        "id": "HkivbHuF4CiF",
        "outputId": "5113222b-c958-4a13-b5bb-a9c86fc6a746"
      },
      "execution_count": null,
      "outputs": [
        {
          "output_type": "stream",
          "name": "stdout",
          "text": [
            "True\n",
            "False\n"
          ]
        }
      ]
    },
    {
      "cell_type": "code",
      "source": [
        "def print_lyrics():\n",
        "    lyrics = \"\"\"\n",
        "    Twinkle, twinkle, little star,\n",
        "    How I wonder what you are!\n",
        "    Up above the world so high,\n",
        "    Like a diamond in the sky.\n",
        "    \"\"\"\n",
        "    print(lyrics)\n",
        "\n",
        "print_lyrics()"
      ],
      "metadata": {
        "colab": {
          "base_uri": "https://localhost:8080/"
        },
        "id": "t9LB3K_F4FrA",
        "outputId": "b0c0cac4-eff9-4cbb-b22a-ba6a7bcb3b1d"
      },
      "execution_count": null,
      "outputs": [
        {
          "output_type": "stream",
          "name": "stdout",
          "text": [
            "\n",
            "    Twinkle, twinkle, little star,\n",
            "    How I wonder what you are!\n",
            "    Up above the world so high,\n",
            "    Like a diamond in the sky.\n",
            "    \n"
          ]
        }
      ]
    },
    {
      "cell_type": "code",
      "source": [
        "def multiply_numbers(a, b):\n",
        "    return a * b\n",
        "\n",
        "result = multiply_numbers(7, 8)\n",
        "print(result)"
      ],
      "metadata": {
        "colab": {
          "base_uri": "https://localhost:8080/"
        },
        "id": "idahlIMh4Ium",
        "outputId": "7149d6a1-f676-4811-cdf8-5c76b05fab58"
      },
      "execution_count": null,
      "outputs": [
        {
          "output_type": "stream",
          "name": "stdout",
          "text": [
            "56\n"
          ]
        }
      ]
    },
    {
      "cell_type": "code",
      "source": [
        "def calculate_expression():\n",
        "    return 1 + 2 * float(3) / 4 - 5\n",
        "\n",
        "result = calculate_expression()\n",
        "print(result)"
      ],
      "metadata": {
        "colab": {
          "base_uri": "https://localhost:8080/"
        },
        "id": "tOT4Ne_p4Ln3",
        "outputId": "e06213f8-0dc8-4cb4-d962-d174f6f08eed"
      },
      "execution_count": null,
      "outputs": [
        {
          "output_type": "stream",
          "name": "stdout",
          "text": [
            "-2.5\n"
          ]
        }
      ]
    }
  ]
}