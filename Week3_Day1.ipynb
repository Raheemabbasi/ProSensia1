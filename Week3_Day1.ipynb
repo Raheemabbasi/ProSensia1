{
  "nbformat": 4,
  "nbformat_minor": 0,
  "metadata": {
    "colab": {
      "provenance": [],
      "authorship_tag": "ABX9TyN620l4PdHIe1h4ND1MW2Nt",
      "include_colab_link": true
    },
    "kernelspec": {
      "name": "python3",
      "display_name": "Python 3"
    },
    "language_info": {
      "name": "python"
    }
  },
  "cells": [
    {
      "cell_type": "markdown",
      "metadata": {
        "id": "view-in-github",
        "colab_type": "text"
      },
      "source": [
        "<a href=\"https://colab.research.google.com/github/Raheemabbasi/ProSensia1/blob/main/Week3_Day1.ipynb\" target=\"_parent\"><img src=\"https://colab.research.google.com/assets/colab-badge.svg\" alt=\"Open In Colab\"/></a>"
      ]
    },
    {
      "cell_type": "markdown",
      "source": [
        "1.Convert String to Integer"
      ],
      "metadata": {
        "id": "wPlPtFqEvEQB"
      }
    },
    {
      "cell_type": "code",
      "source": [
        "def string_to_integer(s):\n",
        "    try:\n",
        "        return int(s)\n",
        "    except ValueError:\n",
        "        return None\n",
        "\n",
        "print(string_to_integer(\"123\"))  # Output: 123\n",
        "print(string_to_integer(\"abc\"))  # Output: None"
      ],
      "metadata": {
        "colab": {
          "base_uri": "https://localhost:8080/"
        },
        "id": "S10aoioUvLx7",
        "outputId": "2c3594d8-9d1f-486d-fdc3-0f4b84614b3e"
      },
      "execution_count": 1,
      "outputs": [
        {
          "output_type": "stream",
          "name": "stdout",
          "text": [
            "123\n",
            "None\n"
          ]
        }
      ]
    },
    {
      "cell_type": "markdown",
      "source": [
        "2.Convert Integer to String"
      ],
      "metadata": {
        "id": "G7iwec08vSPB"
      }
    },
    {
      "cell_type": "code",
      "source": [
        "def integer_to_string(n):\n",
        "    return str(n)\n",
        "\n",
        "print(integer_to_string(123))  # Output: \"123\""
      ],
      "metadata": {
        "colab": {
          "base_uri": "https://localhost:8080/"
        },
        "id": "J_FOCs-DvV_h",
        "outputId": "4b051d65-dca2-4312-943c-c8d21f1c3659"
      },
      "execution_count": 2,
      "outputs": [
        {
          "output_type": "stream",
          "name": "stdout",
          "text": [
            "123\n"
          ]
        }
      ]
    },
    {
      "cell_type": "markdown",
      "source": [
        "3.Convert Float to Integer"
      ],
      "metadata": {
        "id": "5fztw-GjvYxn"
      }
    },
    {
      "cell_type": "code",
      "source": [
        "def float_to_integer(f):\n",
        "    return int(f)\n",
        "\n",
        "print(float_to_integer(123.456))  # Output: 123"
      ],
      "metadata": {
        "colab": {
          "base_uri": "https://localhost:8080/"
        },
        "id": "z8FZQyHrvcrl",
        "outputId": "5197a33a-3942-4de2-e5bc-6ec12aa096b7"
      },
      "execution_count": 3,
      "outputs": [
        {
          "output_type": "stream",
          "name": "stdout",
          "text": [
            "123\n"
          ]
        }
      ]
    },
    {
      "cell_type": "markdown",
      "source": [
        "4.Convert List of Strings to List of Integers"
      ],
      "metadata": {
        "id": "CdCwZlQNvfc7"
      }
    },
    {
      "cell_type": "code",
      "source": [
        "def list_strings_to_integers(strings):\n",
        "    integers = []\n",
        "    for s in strings:\n",
        "        try:\n",
        "            integers.append(int(s))\n",
        "        except ValueError:\n",
        "            continue\n",
        "    return integers\n",
        "\n",
        "print(list_strings_to_integers([\"123\", \"abc\", \"456\"]))  # Output: [123, 456]"
      ],
      "metadata": {
        "colab": {
          "base_uri": "https://localhost:8080/"
        },
        "id": "_Mqb8Uwavj83",
        "outputId": "94f3b12b-2410-4565-bfd5-9f22b93453ea"
      },
      "execution_count": 4,
      "outputs": [
        {
          "output_type": "stream",
          "name": "stdout",
          "text": [
            "[123, 456]\n"
          ]
        }
      ]
    },
    {
      "cell_type": "markdown",
      "source": [
        "5.Addition of Two Numbers"
      ],
      "metadata": {
        "id": "W5Z9aVfuvnuP"
      }
    },
    {
      "cell_type": "code",
      "source": [
        "\n",
        "def add_two_numbers(a, b):\n",
        "    return a + b\n",
        "\n",
        "print(add_two_numbers(3, 5))  # Output: 8"
      ],
      "metadata": {
        "colab": {
          "base_uri": "https://localhost:8080/"
        },
        "id": "5nm5eOw3vryU",
        "outputId": "330e05f0-93b6-4132-cc75-8ba649c8d720"
      },
      "execution_count": 5,
      "outputs": [
        {
          "output_type": "stream",
          "name": "stdout",
          "text": [
            "8\n"
          ]
        }
      ]
    },
    {
      "cell_type": "markdown",
      "source": [
        "6.Subtraction of Two Numbers"
      ],
      "metadata": {
        "id": "q0wrpjnFvu_P"
      }
    },
    {
      "cell_type": "code",
      "source": [
        "def subtract_two_numbers(a, b):\n",
        "    return a - b\n",
        "\n",
        "print(subtract_two_numbers(10, 4))  # Output: 6"
      ],
      "metadata": {
        "colab": {
          "base_uri": "https://localhost:8080/"
        },
        "id": "R8lN2Z8fv0O4",
        "outputId": "4c948335-7e3a-4700-e062-4ca61092fbb3"
      },
      "execution_count": 6,
      "outputs": [
        {
          "output_type": "stream",
          "name": "stdout",
          "text": [
            "6\n"
          ]
        }
      ]
    },
    {
      "cell_type": "markdown",
      "source": [
        "7.Multiplication of Two Numbers"
      ],
      "metadata": {
        "id": "dTGIWPjNv4HA"
      }
    },
    {
      "cell_type": "code",
      "source": [
        "def multiply_two_numbers(a, b):\n",
        "    return a * b\n",
        "\n",
        "print(multiply_two_numbers(6, 7))  # Output: 42"
      ],
      "metadata": {
        "colab": {
          "base_uri": "https://localhost:8080/"
        },
        "id": "CrasqL1Rv8b1",
        "outputId": "fd79ce0a-5a7f-4074-f1a2-f9faf83564c2"
      },
      "execution_count": 7,
      "outputs": [
        {
          "output_type": "stream",
          "name": "stdout",
          "text": [
            "42\n"
          ]
        }
      ]
    },
    {
      "cell_type": "markdown",
      "source": [
        "8.Division of Two Numbers"
      ],
      "metadata": {
        "id": "teB0Vz-uv_Qh"
      }
    },
    {
      "cell_type": "code",
      "source": [
        "def divide_two_numbers(a, b):\n",
        "    if b == 0:\n",
        "        return \"Cannot divide by zero\"\n",
        "    return a / b\n",
        "\n",
        "print(divide_two_numbers(8, 2))  # Output: 4.0\n",
        "print(divide_two_numbers(8, 0))  # Output: Cannot divide by zero"
      ],
      "metadata": {
        "colab": {
          "base_uri": "https://localhost:8080/"
        },
        "id": "Gz-JnP5rwC2L",
        "outputId": "79d0239e-2854-4514-b1d1-5120e6b7269c"
      },
      "execution_count": 8,
      "outputs": [
        {
          "output_type": "stream",
          "name": "stdout",
          "text": [
            "4.0\n",
            "Cannot divide by zero\n"
          ]
        }
      ]
    },
    {
      "cell_type": "markdown",
      "source": [
        "9.Concatenate Two Strings"
      ],
      "metadata": {
        "id": "1_sTfMEDwFbS"
      }
    },
    {
      "cell_type": "code",
      "source": [
        "def concatenate_two_strings(str1, str2):\n",
        "    return str1 + str2\n",
        "\n",
        "print(concatenate_two_strings(\"Hello\", \"World\"))  # Output: HelloWorld"
      ],
      "metadata": {
        "colab": {
          "base_uri": "https://localhost:8080/"
        },
        "id": "ewiw57pPwI8j",
        "outputId": "9ee05880-1563-4543-ee05-5eb4e840a1a0"
      },
      "execution_count": 9,
      "outputs": [
        {
          "output_type": "stream",
          "name": "stdout",
          "text": [
            "HelloWorld\n"
          ]
        }
      ]
    },
    {
      "cell_type": "markdown",
      "source": [
        "10.Reverse a String"
      ],
      "metadata": {
        "id": "R6s88QtRwLy-"
      }
    },
    {
      "cell_type": "code",
      "source": [
        "def reverse_string(s):\n",
        "    return s[::-1]\n",
        "\n",
        "print(reverse_string(\"Hello\"))  # Output: olleH"
      ],
      "metadata": {
        "colab": {
          "base_uri": "https://localhost:8080/"
        },
        "id": "9M_zNfmXwPSJ",
        "outputId": "5e55641f-c49b-4782-9269-82ecc3f2402b"
      },
      "execution_count": 10,
      "outputs": [
        {
          "output_type": "stream",
          "name": "stdout",
          "text": [
            "olleH\n"
          ]
        }
      ]
    }
  ]
}