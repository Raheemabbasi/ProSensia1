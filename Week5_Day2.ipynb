{
  "nbformat": 4,
  "nbformat_minor": 0,
  "metadata": {
    "colab": {
      "provenance": [],
      "authorship_tag": "ABX9TyNpZb4D5S1filkb0vQp6oha",
      "include_colab_link": true
    },
    "kernelspec": {
      "name": "python3",
      "display_name": "Python 3"
    },
    "language_info": {
      "name": "python"
    }
  },
  "cells": [
    {
      "cell_type": "markdown",
      "metadata": {
        "id": "view-in-github",
        "colab_type": "text"
      },
      "source": [
        "<a href=\"https://colab.research.google.com/github/Raheemabbasi/ProSensia1/blob/main/Week5_Day2.ipynb\" target=\"_parent\"><img src=\"https://colab.research.google.com/assets/colab-badge.svg\" alt=\"Open In Colab\"/></a>"
      ]
    },
    {
      "cell_type": "markdown",
      "source": [
        "Contact Notebook"
      ],
      "metadata": {
        "id": "15gKzLZAhHST"
      }
    },
    {
      "cell_type": "code",
      "source": [
        "# contact_book.py\n",
        "\n",
        "# Initialize an empty list to store contacts as tuples\n",
        "contacts = []\n",
        "\n",
        "# Function to add a new contact\n",
        "def add_contact():\n",
        "    name = input(\"Enter contact name: \").strip()\n",
        "    phone = input(\"Enter contact phone number: \").strip()\n",
        "\n",
        "    # Check if the contact already exists (case-insensitive)\n",
        "    for contact in contacts:\n",
        "        if contact[0].lower() == name.lower():\n",
        "            print(\"Contact already exists!\")\n",
        "            return\n",
        "\n",
        "    # Add the new contact as a tuple (name, phone)\n",
        "    contacts.append((name, phone))\n",
        "    print(f\"Contact {name} added successfully.\")\n",
        "\n",
        "# Function to search for a contact by name\n",
        "def search_contact():\n",
        "    search_name = input(\"Enter the name to search: \").strip()\n",
        "    found_contacts = []\n",
        "\n",
        "    # Search the list of contacts (case-insensitive search)\n",
        "    for contact in contacts:\n",
        "        if contact[0].lower() == search_name.lower():\n",
        "            found_contacts.append(contact)\n",
        "\n",
        "    # Display the search results\n",
        "    if found_contacts:\n",
        "        print(f\"Found {len(found_contacts)} contact(s) matching '{search_name}':\")\n",
        "        for contact in found_contacts:\n",
        "            print(f\"Name: {contact[0]}, Phone: {contact[1]}\")\n",
        "    else:\n",
        "        print(f\"No contact found with the name '{search_name}'.\")\n",
        "\n",
        "# Function to display all contacts\n",
        "def display_contacts():\n",
        "    if not contacts:\n",
        "        print(\"The contact book is empty.\")\n",
        "    else:\n",
        "        print(\"All contacts:\")\n",
        "        for contact in contacts:\n",
        "            print(f\"Name: {contact[0]}, Phone: {contact[1]}\")\n",
        "\n",
        "# Main function to manage the contact book\n",
        "def main():\n",
        "    while True:\n",
        "        print(\"\\nContact Book Menu\")\n",
        "        print(\"1. Add a New Contact\")\n",
        "        print(\"2. Search for a Contact\")\n",
        "        print(\"3. View All Contacts\")\n",
        "        print(\"4. Exit\")\n",
        "\n",
        "        choice = input(\"Choose an option (1-4): \").strip()\n",
        "\n",
        "        if choice == \"1\":\n",
        "            add_contact()\n",
        "        elif choice == \"2\":\n",
        "            search_contact()\n",
        "        elif choice == \"3\":\n",
        "            display_contacts()\n",
        "        elif choice == \"4\":\n",
        "            print(\"Exiting the contact book.\")\n",
        "            break\n",
        "        else:\n",
        "            print(\"Invalid choice! Please select a valid option (1-4).\")\n",
        "\n",
        "# Start the program\n",
        "if __name__ == \"__main__\":\n",
        "    main()"
      ],
      "metadata": {
        "colab": {
          "base_uri": "https://localhost:8080/"
        },
        "id": "elzht7KlhJwz",
        "outputId": "533c93cb-4ffb-4779-d196-40567fbbccd8"
      },
      "execution_count": 1,
      "outputs": [
        {
          "output_type": "stream",
          "name": "stdout",
          "text": [
            "\n",
            "Contact Book Menu\n",
            "1. Add a New Contact\n",
            "2. Search for a Contact\n",
            "3. View All Contacts\n",
            "4. Exit\n",
            "Choose an option (1-4): 1\n",
            "Enter contact name: Raheem\n",
            "Enter contact phone number: 03109869056\n",
            "Contact Raheem added successfully.\n",
            "\n",
            "Contact Book Menu\n",
            "1. Add a New Contact\n",
            "2. Search for a Contact\n",
            "3. View All Contacts\n",
            "4. Exit\n",
            "Choose an option (1-4): 2\n",
            "Enter the name to search: Raheem\n",
            "Found 1 contact(s) matching 'Raheem':\n",
            "Name: Raheem, Phone: 03109869056\n",
            "\n",
            "Contact Book Menu\n",
            "1. Add a New Contact\n",
            "2. Search for a Contact\n",
            "3. View All Contacts\n",
            "4. Exit\n",
            "Choose an option (1-4): 4\n",
            "Exiting the contact book.\n"
          ]
        }
      ]
    }
  ]
}