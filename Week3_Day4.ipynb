{
  "nbformat": 4,
  "nbformat_minor": 0,
  "metadata": {
    "colab": {
      "provenance": [],
      "authorship_tag": "ABX9TyPyx4l7SrCLqcjScI8pNDHK",
      "include_colab_link": true
    },
    "kernelspec": {
      "name": "python3",
      "display_name": "Python 3"
    },
    "language_info": {
      "name": "python"
    }
  },
  "cells": [
    {
      "cell_type": "markdown",
      "metadata": {
        "id": "view-in-github",
        "colab_type": "text"
      },
      "source": [
        "<a href=\"https://colab.research.google.com/github/Raheemabbasi/ProSensia1/blob/main/Week3_Day4.ipynb\" target=\"_parent\"><img src=\"https://colab.research.google.com/assets/colab-badge.svg\" alt=\"Open In Colab\"/></a>"
      ]
    },
    {
      "cell_type": "markdown",
      "source": [
        "1.Complex Number Conversion and Operations"
      ],
      "metadata": {
        "id": "UoiQOdM6j2Vy"
      }
    },
    {
      "cell_type": "code",
      "source": [
        "def complex_operations(complex_str, other_complex):\n",
        "    try:\n",
        "        c1 = complex(complex_str)\n",
        "    except ValueError:\n",
        "        return \"Invalid complex number format\"\n",
        "\n",
        "    c2 = complex(other_complex)\n",
        "\n",
        "    addition = c1 + c2\n",
        "    subtraction = c1 - c2\n",
        "    multiplication = c1 * c2\n",
        "    division = c1 / c2\n",
        "\n",
        "    return addition, subtraction, multiplication, division\n",
        "\n",
        "print(complex_operations(\"1+2j\", \"3+4j\"))"
      ],
      "metadata": {
        "colab": {
          "base_uri": "https://localhost:8080/"
        },
        "id": "c6YFUUZvkQ5C",
        "outputId": "86eed29e-1e63-4027-cee8-b11487421b0a"
      },
      "execution_count": 1,
      "outputs": [
        {
          "output_type": "stream",
          "name": "stdout",
          "text": [
            "((4+6j), (-2-2j), (-5+10j), (0.44+0.08j))\n"
          ]
        }
      ]
    },
    {
      "cell_type": "markdown",
      "source": [
        "2.Binary String to Integer and Back"
      ],
      "metadata": {
        "id": "7Y2gObHOkXr6"
      }
    },
    {
      "cell_type": "code",
      "source": [
        "def binary_to_integer_and_back(binary_str, fixed_length=8):\n",
        "    try:\n",
        "        integer = int(binary_str, 2)\n",
        "    except ValueError:\n",
        "        return \"Invalid binary string\"\n",
        "\n",
        "    binary_back = format(integer, f'0{fixed_length}b')\n",
        "    return integer, binary_back\n",
        "\n",
        "print(binary_to_integer_and_back(\"1010\"))"
      ],
      "metadata": {
        "colab": {
          "base_uri": "https://localhost:8080/"
        },
        "id": "vi8OYkapkb3T",
        "outputId": "b0625751-21cd-4d2d-ba3f-222f9a49968b"
      },
      "execution_count": 2,
      "outputs": [
        {
          "output_type": "stream",
          "name": "stdout",
          "text": [
            "(10, '00001010')\n"
          ]
        }
      ]
    },
    {
      "cell_type": "markdown",
      "source": [
        "3.Dictionary to JSON String and Back with Error Handling"
      ],
      "metadata": {
        "id": "EcGeqRSBkfsb"
      }
    },
    {
      "cell_type": "code",
      "source": [
        "import json\n",
        "\n",
        "def dict_to_json_and_back(data):\n",
        "    try:\n",
        "        json_str = json.dumps(data)\n",
        "        dict_back = json.loads(json_str)\n",
        "        return json_str, dict_back\n",
        "    except (TypeError, json.JSONDecodeError) as e:\n",
        "        return data, f\"Error: {str(e)}\"\n",
        "\n",
        "print(dict_to_json_and_back({\"name\": \"Alice\", \"age\": 30}))"
      ],
      "metadata": {
        "colab": {
          "base_uri": "https://localhost:8080/"
        },
        "id": "IGWA3VfmkjPX",
        "outputId": "fc150d74-0ae6-42d7-9fe7-9716b517cc9c"
      },
      "execution_count": 3,
      "outputs": [
        {
          "output_type": "stream",
          "name": "stdout",
          "text": [
            "('{\"name\": \"Alice\", \"age\": 30}', {'name': 'Alice', 'age': 30})\n"
          ]
        }
      ]
    },
    {
      "cell_type": "markdown",
      "source": [
        "4.Matrix Addition with Type and Dimension Enforcement"
      ],
      "metadata": {
        "id": "yH79W4_Mkn68"
      }
    },
    {
      "cell_type": "code",
      "source": [
        "class MatrixDimensionError(Exception):\n",
        "    pass\n",
        "\n",
        "def matrix_addition(matrix1, matrix2):\n",
        "    if not (isinstance(matrix1, list) and isinstance(matrix2, list)):\n",
        "        raise TypeError(\"Both inputs must be lists of lists\")\n",
        "\n",
        "    if len(matrix1) != len(matrix2) or any(len(row1) != len(row2) for row1, row2 in zip(matrix1, matrix2)):\n",
        "        raise MatrixDimensionError(\"Matrices must have the same dimensions\")\n",
        "\n",
        "    if not all(isinstance(element, (int, float)) for row in matrix1 + matrix2 for element in row):\n",
        "        raise TypeError(\"Matrices must contain only numbers\")\n",
        "\n",
        "    result = [[element1 + element2 for element1, element2 in zip(row1, row2)] for row1, row2 in zip(matrix1, matrix2)]\n",
        "    return result\n",
        "\n",
        "print(matrix_addition([[1, 2], [3, 4]], [[5, 6], [7, 8]]))"
      ],
      "metadata": {
        "colab": {
          "base_uri": "https://localhost:8080/"
        },
        "id": "O3UpXYtJkq3f",
        "outputId": "cbce342b-45fb-41c1-db05-76478b811c95"
      },
      "execution_count": 4,
      "outputs": [
        {
          "output_type": "stream",
          "name": "stdout",
          "text": [
            "[[6, 8], [10, 12]]\n"
          ]
        }
      ]
    },
    {
      "cell_type": "markdown",
      "source": [
        "5.Prime Factorization with Cumulative Multiplication"
      ],
      "metadata": {
        "id": "QMIxh0KGku41"
      }
    },
    {
      "cell_type": "code",
      "source": [
        "def prime_factors(n):\n",
        "    i = 2\n",
        "    factors = []\n",
        "    while i * i <= n:\n",
        "        if n % i:\n",
        "            i += 1\n",
        "        else:\n",
        "            n //= i\n",
        "            factors.append(i)\n",
        "    if n > 1:\n",
        "        factors.append(n)\n",
        "\n",
        "    cumulative_product = 1\n",
        "    for factor in factors:\n",
        "        cumulative_product *= factor\n",
        "\n",
        "    return factors, cumulative_product\n",
        "\n",
        "print(prime_factors(28))"
      ],
      "metadata": {
        "colab": {
          "base_uri": "https://localhost:8080/"
        },
        "id": "nLCEZ5qGkxza",
        "outputId": "a382a6ad-1500-45c1-8603-97fb5631b805"
      },
      "execution_count": 5,
      "outputs": [
        {
          "output_type": "stream",
          "name": "stdout",
          "text": [
            "([2, 2, 7], 28)\n"
          ]
        }
      ]
    },
    {
      "cell_type": "markdown",
      "source": [
        "6.Formatted String Interpolation with Custom Placeholders"
      ],
      "metadata": {
        "id": "1yRm7EFAk1Wt"
      }
    },
    {
      "cell_type": "code",
      "source": [
        "def format_string(template, values):\n",
        "    for key, value in values.items():\n",
        "        template = template.replace(f\"{{{{{key}}}}}\", str(value))\n",
        "    return template\n",
        "\n",
        "template_str = \"My name is {name} and I am {age} years old.\"\n",
        "values_dict = {\"name\": \"John\", \"age\": 30}\n",
        "print(format_string(template_str, values_dict))"
      ],
      "metadata": {
        "colab": {
          "base_uri": "https://localhost:8080/"
        },
        "id": "QAjpQxTjk4VT",
        "outputId": "e38c6996-84f7-4a18-f4a2-550b3ab576b6"
      },
      "execution_count": 6,
      "outputs": [
        {
          "output_type": "stream",
          "name": "stdout",
          "text": [
            "My name is {name} and I am {age} years old.\n"
          ]
        }
      ]
    },
    {
      "cell_type": "markdown",
      "source": [
        "7.Advanced Anagram Check with Frequency Analysis"
      ],
      "metadata": {
        "id": "7vcAVisVk8uI"
      }
    },
    {
      "cell_type": "code",
      "source": [
        "from collections import Counter\n",
        "import re\n",
        "\n",
        "def advanced_anagram_check(s1, s2):\n",
        "    clean_s1 = re.sub(r'[^A-Za-z0-9]', '', s1).lower()\n",
        "    clean_s2 = re.sub(r'[^A-Za-z0-9]', '', s2).lower()\n",
        "\n",
        "    is_anagram = Counter(clean_s1) == Counter(clean_s2)\n",
        "\n",
        "    frequency_s1 = Counter(clean_s1)\n",
        "    frequency_s2 = Counter(clean_s2)\n",
        "\n",
        "    return is_anagram, frequency_s1, frequency_s2\n",
        "\n",
        "print(advanced_anagram_check(\"Dormitory\", \"Dirty room!\"))"
      ],
      "metadata": {
        "colab": {
          "base_uri": "https://localhost:8080/"
        },
        "id": "Beve9qKdk_u0",
        "outputId": "6d8af3b4-b48e-4981-db91-980d25bbd7d3"
      },
      "execution_count": 7,
      "outputs": [
        {
          "output_type": "stream",
          "name": "stdout",
          "text": [
            "(True, Counter({'o': 2, 'r': 2, 'd': 1, 'm': 1, 'i': 1, 't': 1, 'y': 1}), Counter({'r': 2, 'o': 2, 'd': 1, 'i': 1, 't': 1, 'y': 1, 'm': 1}))\n"
          ]
        }
      ]
    },
    {
      "cell_type": "markdown",
      "source": [
        "8.Nested Data Structure Flattening with Type Preservation"
      ],
      "metadata": {
        "id": "p333o-LtlEF-"
      }
    },
    {
      "cell_type": "code",
      "source": [
        "def flatten_list(nested_list):\n",
        "    flattened = []\n",
        "    max_depth = 1\n",
        "\n",
        "    def flatten(sublist, current_depth):\n",
        "        nonlocal max_depth\n",
        "        if isinstance(sublist, list):\n",
        "            max_depth = max(max_depth, current_depth + 1)\n",
        "            for item in sublist:\n",
        "                flatten(item, current_depth + 1)\n",
        "        else:\n",
        "            flattened.append(sublist)\n",
        "\n",
        "    flatten(nested_list, 1)\n",
        "    return flattened, max_depth\n",
        "\n",
        "print(flatten_list([1, [2, [3, 4], 5], 6]))"
      ],
      "metadata": {
        "colab": {
          "base_uri": "https://localhost:8080/"
        },
        "id": "JDYb9ew9lGzl",
        "outputId": "5a4aaa1d-f096-4464-9b3f-81c5cf31d2df"
      },
      "execution_count": 8,
      "outputs": [
        {
          "output_type": "stream",
          "name": "stdout",
          "text": [
            "([1, 2, 3, 4, 5, 6], 4)\n"
          ]
        }
      ]
    },
    {
      "cell_type": "markdown",
      "source": [
        "9.String and Number Pattern Matching"
      ],
      "metadata": {
        "id": "NjnRRQjilK_G"
      }
    },
    {
      "cell_type": "code",
      "source": [
        "import re\n",
        "\n",
        "def pattern_matching(s, pattern):\n",
        "    regex_pattern = \"\"\n",
        "    for char in pattern:\n",
        "        if char.isdigit():\n",
        "            regex_pattern += r\"\\d\"\n",
        "        elif char.isalpha():\n",
        "            regex_pattern += r\"\\D\"\n",
        "        else:\n",
        "            return False\n",
        "\n",
        "    return bool(re.fullmatch(regex_pattern, s))\n",
        "\n",
        "print(pattern_matching(\"a1b2\", \"a1b2\"))  # Output: True\n",
        "print(pattern_matching(\"a1bC\", \"a1b2\"))  # Output: False"
      ],
      "metadata": {
        "colab": {
          "base_uri": "https://localhost:8080/"
        },
        "id": "E8WevktJlODP",
        "outputId": "91c8824b-6778-4d0f-d872-a0dfd7e917c5"
      },
      "execution_count": 9,
      "outputs": [
        {
          "output_type": "stream",
          "name": "stdout",
          "text": [
            "True\n",
            "False\n"
          ]
        }
      ]
    },
    {
      "cell_type": "markdown",
      "source": [
        "10.Data Normalization and Statistical Analysis"
      ],
      "metadata": {
        "id": "96FXyUgLlRPL"
      }
    },
    {
      "cell_type": "code",
      "source": [
        "import statistics\n",
        "\n",
        "class DataNormalizationError(Exception):\n",
        "    pass\n",
        "\n",
        "def normalize_and_analyze(numbers):\n",
        "    if not numbers or not all(isinstance(n, (int, float)) for n in numbers):\n",
        "        raise DataNormalizationError(\"Input list must contain only numeric values and cannot be empty\")\n",
        "\n",
        "    min_val = min(numbers)\n",
        "    max_val = max(numbers)\n",
        "\n",
        "    normalized = [(n - min_val) / (max_val - min_val) for n in numbers]\n",
        "\n",
        "    mean = statistics.mean(normalized)\n",
        "    median = statistics.median(normalized)\n",
        "    variance = statistics.variance(normalized)\n",
        "\n",
        "    return normalized, mean, median, variance\n",
        "\n",
        "print(normalize_and_analyze([10, 20, 30, 40, 50]))"
      ],
      "metadata": {
        "colab": {
          "base_uri": "https://localhost:8080/"
        },
        "id": "k7yA6ri0lUNc",
        "outputId": "9a55a362-4b31-484e-e058-7ac8f38a031e"
      },
      "execution_count": 11,
      "outputs": [
        {
          "output_type": "stream",
          "name": "stdout",
          "text": [
            "([0.0, 0.25, 0.5, 0.75, 1.0], 0.5, 0.5, 0.15625)\n"
          ]
        }
      ]
    }
  ]
}