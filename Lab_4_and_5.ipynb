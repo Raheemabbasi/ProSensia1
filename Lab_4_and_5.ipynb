{
  "nbformat": 4,
  "nbformat_minor": 0,
  "metadata": {
    "colab": {
      "provenance": [],
      "authorship_tag": "ABX9TyOpl8nQuq6zpD+gU0tDtEY2",
      "include_colab_link": true
    },
    "kernelspec": {
      "name": "python3",
      "display_name": "Python 3"
    },
    "language_info": {
      "name": "python"
    }
  },
  "cells": [
    {
      "cell_type": "markdown",
      "metadata": {
        "id": "view-in-github",
        "colab_type": "text"
      },
      "source": [
        "<a href=\"https://colab.research.google.com/github/Raheemabbasi/Programming-for-AI-Lab/blob/main/Lab_4_and_5.ipynb\" target=\"_parent\"><img src=\"https://colab.research.google.com/assets/colab-badge.svg\" alt=\"Open In Colab\"/></a>"
      ]
    },
    {
      "cell_type": "markdown",
      "source": [
        "#1.\tAccess List Items:\n",
        "•\tCreate a list of fruits.\n",
        "•\tPrint the first and last items of the list.\n"
      ],
      "metadata": {
        "id": "ydJKwZsF9Hdl"
      }
    },
    {
      "cell_type": "code",
      "source": [
        "# prompt: 1.\tAccess List Items:\n",
        "# •\tCreate a list of fruits.\n",
        "# •\tPrint the first and last items of the list.\n",
        "\n",
        "fruits = ['apple', 'banana', 'cherry', 'mango', 'orange']\n",
        "first_fruit= fruits[0]\n",
        "last_fruit = fruits[-1]\n",
        "\n",
        "print(f\"First fruit: {first_fruit}\")\n",
        "print(f\"Last fruit: {last_fruit}\")\n"
      ],
      "metadata": {
        "id": "aKbAnSci9SkU"
      },
      "execution_count": null,
      "outputs": []
    },
    {
      "cell_type": "markdown",
      "source": [
        "#2. Change List Items:\n",
        "•\tCreate a list of colors.\n",
        "•\tChange the second item in the list to \"blue\".\n"
      ],
      "metadata": {
        "id": "1nGf5XWB-XYw"
      }
    },
    {
      "cell_type": "code",
      "source": [
        "\n",
        "colors = [\"red\", \"green\", \"yellow\", \"purple\", \"black\"]\n",
        "\n",
        "# Change the second item to \"blue\"\n",
        "colors[1] = \"blue\"\n",
        "\n",
        "# Print the updated list\n",
        "print(colors)\n"
      ],
      "metadata": {
        "id": "aTKQKNvV-dCr"
      },
      "execution_count": null,
      "outputs": []
    },
    {
      "cell_type": "markdown",
      "source": [
        "#3. Add List Items:\n",
        "•\tCreate a list of numbers.\n",
        "•\tAdd the number 10 at the end of the list.\n"
      ],
      "metadata": {
        "id": "q39vpeY5-vJ-"
      }
    },
    {
      "cell_type": "code",
      "source": [
        "\n",
        "numbers = [1, 2, 3, 4, 5]\n",
        "\n",
        "# Add 10 to the end of the list\n",
        "numbers.append(10)\n",
        "\n",
        "# Print the updated list\n",
        "print(numbers)\n"
      ],
      "metadata": {
        "id": "uMsrkAYn-zpN"
      },
      "execution_count": null,
      "outputs": []
    },
    {
      "cell_type": "markdown",
      "source": [
        "#4.\tRemove List Items:\n",
        "•\tCreate a list of animals.\n",
        "•\tRemove the third item from the list.\n"
      ],
      "metadata": {
        "id": "F-roka4w_hEL"
      }
    },
    {
      "cell_type": "code",
      "source": [
        "\n",
        "animals = ['cat', 'dog', 'elephant', 'fox', 'giraffe']\n",
        "\n",
        "# Remove the third item (elephant)\n",
        "animals.pop(2)\n",
        "\n",
        "# Print the updated list\n",
        "print(animals)\n"
      ],
      "metadata": {
        "colab": {
          "base_uri": "https://localhost:8080/"
        },
        "id": "VmIHN70t_nmW",
        "outputId": "4cf4b9c2-aca7-4eee-b69b-d679ddfe7e8e"
      },
      "execution_count": 8,
      "outputs": [
        {
          "output_type": "stream",
          "name": "stdout",
          "text": [
            "['cat', 'dog', 'fox', 'giraffe']\n"
          ]
        }
      ]
    },
    {
      "cell_type": "markdown",
      "source": [
        "#5.\tLoop Lists:\n",
        "•\tCreate a list of cities.\n",
        "•\tLoop through the list and print each city.\n"
      ],
      "metadata": {
        "id": "8EzNp4OWCfge"
      }
    },
    {
      "cell_type": "code",
      "source": [
        "\n",
        "cities = ['London', 'Paris', 'New York', 'Tokyo', 'Sydney']\n",
        "\n",
        "# Loop through the list and print each city\n",
        "for city in cities:\n",
        "  print(city)\n"
      ],
      "metadata": {
        "id": "3DqR3VbECmUT"
      },
      "execution_count": null,
      "outputs": []
    },
    {
      "cell_type": "markdown",
      "source": [
        "#6.\tList Comprehension:\n",
        "•\tCreate a list of numbers from 1 to 10.\n",
        "•\tUse list comprehension to create a new list containing the square of each number.\n"
      ],
      "metadata": {
        "id": "XwApPwHKC9wU"
      }
    },
    {
      "cell_type": "code",
      "source": [
        "\n",
        "numbers = [1, 2, 3, 4, 5, 6, 7, 8, 9, 10]\n",
        "\n",
        "# Use list comprehension to create a new list containing the square of each number\n",
        "squared_numbers = [number ** 2 for number in numbers]\n",
        "\n",
        "# Print the new list\n",
        "print(squared_numbers)\n"
      ],
      "metadata": {
        "id": "GxQXs2MLDE7S",
        "outputId": "11b683bc-e9c6-4e57-de90-5591ee483e82",
        "colab": {
          "base_uri": "https://localhost:8080/"
        }
      },
      "execution_count": 10,
      "outputs": [
        {
          "output_type": "stream",
          "name": "stdout",
          "text": [
            "[1, 4, 9, 16, 25, 36, 49, 64, 81, 100]\n"
          ]
        }
      ]
    },
    {
      "cell_type": "markdown",
      "source": [
        "#7.\tSort Lists:\n",
        "•\tCreate a list of names.\n",
        "•\tSort the list alphabetically.\n"
      ],
      "metadata": {
        "id": "2vU3KxfTDPoX"
      }
    },
    {
      "cell_type": "code",
      "source": [
        "\n",
        "names = ['Raheem', 'Ali', 'Rehman', 'Shaheen', 'Dani']\n",
        "\n",
        "# Sort the list alphabetically\n",
        "names.sort()\n",
        "\n",
        "# Print the sorted list\n",
        "print(names)\n"
      ],
      "metadata": {
        "id": "DyNOGp_5DVYZ",
        "outputId": "5875131f-c324-44cf-e827-3faa585640e4",
        "colab": {
          "base_uri": "https://localhost:8080/"
        }
      },
      "execution_count": 12,
      "outputs": [
        {
          "output_type": "stream",
          "name": "stdout",
          "text": [
            "['Ali', 'Dani', 'Raheem', 'Rehman', 'Shaheen']\n"
          ]
        }
      ]
    },
    {
      "cell_type": "markdown",
      "source": [
        "#8.\tCopy Lists:\n",
        "•\tCreate a list of fruits.\n",
        "•\tCopy the list into a new list.\n"
      ],
      "metadata": {
        "id": "n7rADqkODw3E"
      }
    },
    {
      "cell_type": "code",
      "source": [
        "fruits = ['apple', 'banana', 'cherry', 'mango', 'orange']\n",
        "\n",
        "# Copy the list into a new list\n",
        "fruits_copy = fruits.copy()\n",
        "\n",
        "# Print the original list\n",
        "print(f\"Original list: {fruits}\")\n",
        "\n",
        "# Print the copied list\n",
        "print(f\"Copied list: {fruits_copy}\")\n"
      ],
      "metadata": {
        "id": "dU4xRAtXD5G6"
      },
      "execution_count": null,
      "outputs": []
    },
    {
      "cell_type": "markdown",
      "source": [
        "#9.\tJoin Lists:\n",
        "•\tCreate two lists of numbers.\n",
        "•\tJoin the two lists into a single list.\n"
      ],
      "metadata": {
        "id": "XVH2f3X1EkPJ"
      }
    },
    {
      "cell_type": "code",
      "source": [
        "list1 = [1, 2, 3, 4, 5]\n",
        "list2 = [6, 7, 8, 9, 10]\n",
        "\n",
        "# Join the two lists into a single list\n",
        "joined_list = list1 + list2\n",
        "\n",
        "# Print the joined list\n",
        "print(joined_list)\n"
      ],
      "metadata": {
        "id": "CyfkmOFfE1h4",
        "outputId": "900f7991-2098-4c34-f0fb-ad9d90c81c08",
        "colab": {
          "base_uri": "https://localhost:8080/"
        }
      },
      "execution_count": 14,
      "outputs": [
        {
          "output_type": "stream",
          "name": "stdout",
          "text": [
            "[1, 2, 3, 4, 5, 6, 7, 8, 9, 10]\n"
          ]
        }
      ]
    },
    {
      "cell_type": "markdown",
      "source": [
        "#10.\tList Methods:\n",
        "•\tCreate a list of fruits.\n",
        "•\tUse the append() method to add a new fruit to the list.\n",
        "•\tUse the pop() method to remove the last fruit from the list.\n"
      ],
      "metadata": {
        "id": "toikMxX0E-Wf"
      }
    },
    {
      "cell_type": "code",
      "source": [
        "fruits = ['apple', 'banana', 'cherry', 'mango']\n",
        "\n",
        "# Add a new fruit to the list using append()\n",
        "fruits.append('orange')\n",
        "\n",
        "# Remove the last fruit from the list using pop()\n",
        "fruits.pop()\n",
        "\n",
        "# Print the updated list\n",
        "print(fruits)\n"
      ],
      "metadata": {
        "id": "yiWKJzbPFCgm",
        "outputId": "cffded03-8776-437a-8785-37d0f0b4e464",
        "colab": {
          "base_uri": "https://localhost:8080/"
        }
      },
      "execution_count": 15,
      "outputs": [
        {
          "output_type": "stream",
          "name": "stdout",
          "text": [
            "['apple', 'banana', 'cherry', 'mango']\n"
          ]
        }
      ]
    },
    {
      "cell_type": "markdown",
      "source": [
        "#11.\tCombining Lists and List Comprehension:\n",
        "\n",
        "•\tCreate two lists, one containing numbers from 1 to 5 and another containing numbers from 6 to 10.\n",
        "•\tUse list comprehension to create a new list that contains the sum of corresponding elements from the two lists.\n"
      ],
      "metadata": {
        "id": "OFKTS-7MFR_e"
      }
    },
    {
      "cell_type": "code",
      "source": [
        "list1 = [1, 2, 3, 4, 5]\n",
        "list2 = [6, 7, 8, 9, 10]\n",
        "\n",
        "# Use list comprehension to create a new list that contains the sum of corresponding elements from the two lists\n",
        "sum_list = [x + y for x, y in zip(list1, list2)]\n",
        "\n",
        "# Print the new list\n",
        "print(sum_list)\n"
      ],
      "metadata": {
        "id": "v7CMN3WkFbsZ"
      },
      "execution_count": null,
      "outputs": []
    },
    {
      "cell_type": "markdown",
      "source": [
        "#12.\tFiltering and Sorting:\n",
        "Create a list of numbers.\n",
        "•\tUse list comprehension to create a new list containing only the even numbers from the original list.\n",
        "•\tSort the new list in descending order.\n"
      ],
      "metadata": {
        "id": "3svb59TIFrLM"
      }
    },
    {
      "cell_type": "code",
      "source": [
        "numbers = [1, 2, 3, 4, 5, 6, 7, 8, 9, 10]\n",
        "\n",
        "# Use list comprehension to create a new list containing only the even numbers from the original list\n",
        "even_numbers = [number for number in numbers if number % 2 == 0]\n",
        "\n",
        "# Sort the new list in descending order\n",
        "even_numbers.sort(reverse=True)\n",
        "\n",
        "# Print the new list\n",
        "print(even_numbers)\n"
      ],
      "metadata": {
        "id": "Mwn1FOhcFv25"
      },
      "execution_count": null,
      "outputs": []
    },
    {
      "cell_type": "markdown",
      "source": [
        "#13.\tList Slicing and Reversing:\n",
        "•\tCreate a list of numbers from 1 to 10.\n",
        "•\tUse list slicing to create a new list containing only the even numbers from the original list, in reverse order.\n"
      ],
      "metadata": {
        "id": "ffG_KW5tGAV8"
      }
    },
    {
      "cell_type": "code",
      "source": [
        "\n",
        "numbers = list(range(1, 11))\n",
        "\n",
        "# Create a new list containing only the even numbers from the original list, in reverse order\n",
        "even_numbers_reversed = numbers[::2][::-1]\n",
        "\n",
        "# Print the new list\n",
        "print(even_numbers_reversed)\n"
      ],
      "metadata": {
        "id": "6Q9WvGbiGGeL"
      },
      "execution_count": null,
      "outputs": []
    },
    {
      "cell_type": "markdown",
      "source": [
        "#14.\tCombining Lists and List Methods:\n",
        "•\tCreate two lists, one containing even numbers and another containing odd numbers.\n",
        "•\tUse list methods to combine the two lists into a single list, alternating between even and odd numbers.\n"
      ],
      "metadata": {
        "id": "ljO15FxTGMGL"
      }
    },
    {
      "cell_type": "code",
      "source": [
        "even_numbers = [2, 4, 6, 8, 10]\n",
        "odd_numbers = [1, 3, 5, 7, 9]\n",
        "\n",
        "# Combine the two lists into a single list, alternating between even and odd numbers\n",
        "combined_list = []\n",
        "\n",
        "while even_numbers and odd_numbers:\n",
        "  combined_list.append(even_numbers.pop(0))\n",
        "  combined_list.append(odd_numbers.pop(0))\n",
        "\n",
        "# Add any remaining elements from either list\n",
        "combined_list.extend(even_numbers)\n",
        "combined_list.extend(odd_numbers)\n",
        "\n",
        "# Print the combined list\n",
        "print(combined_list)\n"
      ],
      "metadata": {
        "id": "-poUpqbmGQle",
        "outputId": "acdd89b0-2e66-46ef-e048-baf22bb4b91d",
        "colab": {
          "base_uri": "https://localhost:8080/"
        }
      },
      "execution_count": 18,
      "outputs": [
        {
          "output_type": "stream",
          "name": "stdout",
          "text": [
            "[2, 1, 4, 3, 6, 5, 8, 7, 10, 9]\n"
          ]
        }
      ]
    }
  ]
}