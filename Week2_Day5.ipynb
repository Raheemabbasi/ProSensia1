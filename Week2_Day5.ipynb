{
  "nbformat": 4,
  "nbformat_minor": 0,
  "metadata": {
    "colab": {
      "provenance": [],
      "authorship_tag": "ABX9TyP8R73hGYdxXZWUrtzlGLFc",
      "include_colab_link": true
    },
    "kernelspec": {
      "name": "python3",
      "display_name": "Python 3"
    },
    "language_info": {
      "name": "python"
    }
  },
  "cells": [
    {
      "cell_type": "markdown",
      "metadata": {
        "id": "view-in-github",
        "colab_type": "text"
      },
      "source": [
        "<a href=\"https://colab.research.google.com/github/Raheemabbasi/ProSensia1/blob/main/Week2_Day5.ipynb\" target=\"_parent\"><img src=\"https://colab.research.google.com/assets/colab-badge.svg\" alt=\"Open In Colab\"/></a>"
      ]
    },
    {
      "cell_type": "markdown",
      "source": [
        "1.Concatenation and Conversion"
      ],
      "metadata": {
        "id": "lDOSR64cr0W1"
      }
    },
    {
      "cell_type": "code",
      "source": [
        "def concatenate_and_convert(str1, str2):\n",
        "    concatenated = str1 + str2\n",
        "    if concatenated.isdigit():\n",
        "        return int(concatenated)\n",
        "    return concatenated\n",
        "\n",
        "print(concatenate_and_convert(\"123\", \"456\"))  # Output: 123456 (integer)\n",
        "print(concatenate_and_convert(\"123\", \"abc\"))  # Output: 123abc (string)"
      ],
      "metadata": {
        "colab": {
          "base_uri": "https://localhost:8080/"
        },
        "id": "kILFeangr5Vp",
        "outputId": "2239de2e-f681-4b33-e2ee-61e1a89ead8d"
      },
      "execution_count": 1,
      "outputs": [
        {
          "output_type": "stream",
          "name": "stdout",
          "text": [
            "123456\n",
            "123abc\n"
          ]
        }
      ]
    },
    {
      "cell_type": "markdown",
      "source": [
        "2.String Indexing"
      ],
      "metadata": {
        "id": "kkxpboVjr_fV"
      }
    },
    {
      "cell_type": "code",
      "source": [
        "def get_character_at_index(s, index):\n",
        "    if 0 <= index < len(s):\n",
        "        return s[index]\n",
        "    return \"Index out of bounds\"\n",
        "\n",
        "print(get_character_at_index(\"hello\", 1))  # Output: e\n",
        "print(get_character_at_index(\"hello\", 5))  # Output: Index out of bounds"
      ],
      "metadata": {
        "colab": {
          "base_uri": "https://localhost:8080/"
        },
        "id": "w5HP13x8sDUe",
        "outputId": "9cf2713f-f42e-4c7f-a6e0-7bb839bf467c"
      },
      "execution_count": 2,
      "outputs": [
        {
          "output_type": "stream",
          "name": "stdout",
          "text": [
            "e\n",
            "Index out of bounds\n"
          ]
        }
      ]
    },
    {
      "cell_type": "markdown",
      "source": [
        "3.String Length"
      ],
      "metadata": {
        "id": "AJRby7d5sGyQ"
      }
    },
    {
      "cell_type": "code",
      "source": [
        "def get_string_lengths(strings):\n",
        "    return [len(s) for s in strings]\n",
        "\n",
        "print(get_string_lengths([\"hello\", \"world\", \"python\"]))  # Output: [5, 5, 6]"
      ],
      "metadata": {
        "colab": {
          "base_uri": "https://localhost:8080/"
        },
        "id": "7KF5zRb3sMpc",
        "outputId": "57848503-f46c-48e5-c8cd-4bfb34e70f58"
      },
      "execution_count": 3,
      "outputs": [
        {
          "output_type": "stream",
          "name": "stdout",
          "text": [
            "[5, 5, 6]\n"
          ]
        }
      ]
    },
    {
      "cell_type": "markdown",
      "source": [
        "4.Looping Through Strings"
      ],
      "metadata": {
        "id": "1TghlRMwsSIo"
      }
    },
    {
      "cell_type": "code",
      "source": [
        "def print_string_with_indices(s):\n",
        "    for index, char in enumerate(s):\n",
        "        print(f\"{index}: {char}\")\n",
        "\n",
        "print_string_with_indices(\"hello\")"
      ],
      "metadata": {
        "colab": {
          "base_uri": "https://localhost:8080/"
        },
        "id": "TGyabSZYsYZZ",
        "outputId": "10a1189d-8156-41c1-8c3b-87594553f4c5"
      },
      "execution_count": 4,
      "outputs": [
        {
          "output_type": "stream",
          "name": "stdout",
          "text": [
            "0: h\n",
            "1: e\n",
            "2: l\n",
            "3: l\n",
            "4: o\n"
          ]
        }
      ]
    },
    {
      "cell_type": "markdown",
      "source": [
        "5.Character Counting"
      ],
      "metadata": {
        "id": "7iKpNxLCsh6n"
      }
    },
    {
      "cell_type": "code",
      "source": [
        "def count_character(s, char):\n",
        "    return s.count(char)\n",
        "\n",
        "print(count_character(\"hello\", \"l\"))  # Output: 2\n",
        "print(count_character(\"hello\", \"z\"))  # Output: 0"
      ],
      "metadata": {
        "colab": {
          "base_uri": "https://localhost:8080/"
        },
        "id": "y5qJMtffsmnl",
        "outputId": "d5241878-f702-4958-dfe8-80ce5f9b2c43"
      },
      "execution_count": 5,
      "outputs": [
        {
          "output_type": "stream",
          "name": "stdout",
          "text": [
            "2\n",
            "0\n"
          ]
        }
      ]
    },
    {
      "cell_type": "markdown",
      "source": [
        "6.String Slicing"
      ],
      "metadata": {
        "id": "fQomwu4osqHa"
      }
    },
    {
      "cell_type": "code",
      "source": [
        "def slice_string(s, start, end):\n",
        "    start = max(0, start)\n",
        "    end = min(len(s), end)\n",
        "    return s[start:end]\n",
        "\n",
        "print(slice_string(\"hello\", 1, 4))  # Output: ell\n",
        "print(slice_string(\"hello\", -1, 10))  # Output: hello"
      ],
      "metadata": {
        "colab": {
          "base_uri": "https://localhost:8080/"
        },
        "id": "UUdA1QPWsvGU",
        "outputId": "abcddfe2-1f32-447f-a342-58923387a32a"
      },
      "execution_count": 6,
      "outputs": [
        {
          "output_type": "stream",
          "name": "stdout",
          "text": [
            "ell\n",
            "hello\n"
          ]
        }
      ]
    },
    {
      "cell_type": "markdown",
      "source": [
        "7.String Comparison"
      ],
      "metadata": {
        "id": "3HqUPZ3rsyzH"
      }
    },
    {
      "cell_type": "code",
      "source": [
        "def compare_strings(str1, str2):\n",
        "    if str1 < str2:\n",
        "        return f\"{str1} comes before {str2}\"\n",
        "    elif str1 > str2:\n",
        "        return f\"{str1} comes after {str2}\"\n",
        "    else:\n",
        "        return f\"{str1} is equal to {str2}\"\n",
        "\n",
        "print(compare_strings(\"apple\", \"banana\"))  # Output: apple comes before banana\n",
        "print(compare_strings(\"banana\", \"apple\"))  # Output: banana comes after apple\n",
        "print(compare_strings(\"apple\", \"apple\"))  # Output: apple is equal to apple"
      ],
      "metadata": {
        "colab": {
          "base_uri": "https://localhost:8080/"
        },
        "id": "ZjWIgUads3H-",
        "outputId": "79a3e7c8-2aba-4e88-fbf6-6e3210b51acc"
      },
      "execution_count": 7,
      "outputs": [
        {
          "output_type": "stream",
          "name": "stdout",
          "text": [
            "apple comes before banana\n",
            "banana comes after apple\n",
            "apple is equal to apple\n"
          ]
        }
      ]
    },
    {
      "cell_type": "markdown",
      "source": [
        "8.String Methods"
      ],
      "metadata": {
        "id": "RwdFGTF1s6Y0"
      }
    },
    {
      "cell_type": "code",
      "source": [
        "def string_transformations(s):\n",
        "    return {\n",
        "        \"lowercase\": s.lower(),\n",
        "        \"uppercase\": s.upper(),\n",
        "        \"titlecase\": s.title()\n",
        "    }\n",
        "\n",
        "print(string_transformations(\"Hello World\"))\n",
        "# Output: {'lowercase': 'hello world', 'uppercase': 'HELLO WORLD', 'titlecase': 'Hello World'}"
      ],
      "metadata": {
        "colab": {
          "base_uri": "https://localhost:8080/"
        },
        "id": "RBPyJ3Hcs-ZG",
        "outputId": "69c7ee56-0cfb-4a38-f864-7832175faa5a"
      },
      "execution_count": 8,
      "outputs": [
        {
          "output_type": "stream",
          "name": "stdout",
          "text": [
            "{'lowercase': 'hello world', 'uppercase': 'HELLO WORLD', 'titlecase': 'Hello World'}\n"
          ]
        }
      ]
    },
    {
      "cell_type": "markdown",
      "source": [
        "9.Search and Replace"
      ],
      "metadata": {
        "id": "1t-gk9rKtCFV"
      }
    },
    {
      "cell_type": "code",
      "source": [
        "def search_and_replace(s, search_term, replacement_term):\n",
        "    return s.replace(search_term, replacement_term)\n",
        "\n",
        "print(search_and_replace(\"Hello world\", \"world\", \"Python\"))  # Output: Hello Python"
      ],
      "metadata": {
        "colab": {
          "base_uri": "https://localhost:8080/"
        },
        "id": "tLPzsKUdtF0b",
        "outputId": "c12b6b14-20dc-4671-85f6-be8d628ada55"
      },
      "execution_count": 9,
      "outputs": [
        {
          "output_type": "stream",
          "name": "stdout",
          "text": [
            "Hello Python\n"
          ]
        }
      ]
    },
    {
      "cell_type": "markdown",
      "source": [
        "10.Whitespace Removal"
      ],
      "metadata": {
        "id": "Qnee_Kz6tIRk"
      }
    },
    {
      "cell_type": "code",
      "source": [
        "def remove_whitespace(s):\n",
        "    return ' '.join(s.strip().split())\n",
        "\n",
        "print(remove_whitespace(\"   Hello   world   \"))  # Output: Hello world"
      ],
      "metadata": {
        "colab": {
          "base_uri": "https://localhost:8080/"
        },
        "id": "taNoZ9OPtMVP",
        "outputId": "e11fff00-9196-478b-a238-7ce82d96bf5d"
      },
      "execution_count": 10,
      "outputs": [
        {
          "output_type": "stream",
          "name": "stdout",
          "text": [
            "Hello world\n"
          ]
        }
      ]
    }
  ]
}