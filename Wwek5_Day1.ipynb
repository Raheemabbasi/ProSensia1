{
  "nbformat": 4,
  "nbformat_minor": 0,
  "metadata": {
    "colab": {
      "provenance": [],
      "authorship_tag": "ABX9TyNIh7vYRQ/sNdGsP3uR54ed",
      "include_colab_link": true
    },
    "kernelspec": {
      "name": "python3",
      "display_name": "Python 3"
    },
    "language_info": {
      "name": "python"
    }
  },
  "cells": [
    {
      "cell_type": "markdown",
      "metadata": {
        "id": "view-in-github",
        "colab_type": "text"
      },
      "source": [
        "<a href=\"https://colab.research.google.com/github/Raheemabbasi/ProSensia1/blob/main/Wwek5_Day1.ipynb\" target=\"_parent\"><img src=\"https://colab.research.google.com/assets/colab-badge.svg\" alt=\"Open In Colab\"/></a>"
      ]
    },
    {
      "cell_type": "markdown",
      "source": [
        "Task."
      ],
      "metadata": {
        "id": "DNgbW17SfZyO"
      }
    },
    {
      "cell_type": "code",
      "source": [
        "\n",
        "\n",
        "inventory = []\n",
        "\n",
        "def add_product():\n",
        "    product_name = input(\"Enter product name: \")\n",
        "    product_id = input(\"Enter product ID: \")\n",
        "    try:\n",
        "        quantity = int(input(\"Enter product quantity: \"))\n",
        "        price = float(input(\"Enter product price: \"))\n",
        "    except ValueError:\n",
        "        print(\"Invalid input! Quantity must be an integer and price must be a float.\")\n",
        "        return\n",
        "\n",
        "    # Check if the product ID already exists\n",
        "    for product in inventory:\n",
        "        if product[\"id\"] == product_id:\n",
        "            print(\"Product ID already exists!\")\n",
        "            return\n",
        "\n",
        "    # Add the product to the inventory\n",
        "    product = {\n",
        "        \"name\": product_name,\n",
        "        \"id\": product_id,\n",
        "        \"quantity\": quantity,\n",
        "        \"price\": price\n",
        "    }\n",
        "    inventory.append(product)\n",
        "    print(f\"{product_name} added successfully.\")\n",
        "\n",
        "# Function to view the current inventory\n",
        "def view_inventory():\n",
        "    if not inventory:\n",
        "        print(\"The inventory is empty.\")\n",
        "    else:\n",
        "        for product in inventory:\n",
        "            print(f\"Name: {product['name']}, ID: {product['id']}, Quantity: {product['quantity']}, Price: {product['price']:.2f}\")\n",
        "\n",
        "# Function to update the quantity of a specific product\n",
        "def update_product_quantity():\n",
        "    product_id = input(\"Enter the product ID to update: \")\n",
        "\n",
        "    # Search for the product by ID\n",
        "    for product in inventory:\n",
        "        if product[\"id\"] == product_id:\n",
        "            try:\n",
        "                new_quantity = int(input(\"Enter the new quantity: \"))\n",
        "                product[\"quantity\"] = new_quantity\n",
        "                print(f\"Quantity for {product['name']} updated successfully.\")\n",
        "                return\n",
        "            except ValueError:\n",
        "                print(\"Invalid input! Quantity must be an integer.\")\n",
        "                return\n",
        "\n",
        "    print(\"Product ID not found!\")\n",
        "\n",
        "# Function to remove a product from the inventory\n",
        "def remove_product():\n",
        "    product_id = input(\"Enter the product ID to remove: \")\n",
        "\n",
        "    # Search for the product by ID and remove it\n",
        "    for product in inventory:\n",
        "        if product[\"id\"] == product_id:\n",
        "            inventory.remove(product)\n",
        "            print(f\"{product['name']} removed successfully.\")\n",
        "            return\n",
        "\n",
        "    print(\"Product ID not found!\")\n",
        "\n",
        "# Main menu function\n",
        "def main():\n",
        "    while True:\n",
        "        print(\"\\nSimple Inventory Management System\")\n",
        "        print(\"1. Add a New Product\")\n",
        "        print(\"2. View Inventory\")\n",
        "        print(\"3. Update Product Quantity\")\n",
        "        print(\"4. Remove a Product\")\n",
        "        print(\"5. Exit\")\n",
        "\n",
        "        choice = input(\"Choose an option (1-5): \")\n",
        "\n",
        "        if choice == \"1\":\n",
        "            add_product()\n",
        "        elif choice == \"2\":\n",
        "            view_inventory()\n",
        "        elif choice == \"3\":\n",
        "            update_product_quantity()\n",
        "        elif choice == \"4\":\n",
        "            remove_product()\n",
        "        elif choice == \"5\":\n",
        "            print(\"Exiting the program.\")\n",
        "            break\n",
        "        else:\n",
        "            print(\"Invalid choice! Please select a valid option (1-5).\")\n",
        "\n",
        "# Start the program\n",
        "if __name__ == \"__main__\":\n",
        "    main()"
      ],
      "metadata": {
        "colab": {
          "base_uri": "https://localhost:8080/"
        },
        "id": "Rs6DYE9bf-UR",
        "outputId": "6874b78d-1974-47ff-a3da-0459d7357523"
      },
      "execution_count": 2,
      "outputs": [
        {
          "output_type": "stream",
          "name": "stdout",
          "text": [
            "\n",
            "Simple Inventory Management System\n",
            "1. Add a New Product\n",
            "2. View Inventory\n",
            "3. Update Product Quantity\n",
            "4. Remove a Product\n",
            "5. Exit\n",
            "Choose an option (1-5): 1\n",
            "Enter product name: 1\n",
            "Enter product ID: 1\n",
            "Enter product quantity: 1\n",
            "Enter product price: 1\n",
            "1 added successfully.\n",
            "\n",
            "Simple Inventory Management System\n",
            "1. Add a New Product\n",
            "2. View Inventory\n",
            "3. Update Product Quantity\n",
            "4. Remove a Product\n",
            "5. Exit\n",
            "Choose an option (1-5): 1\n",
            "Enter product name: 2\n",
            "Enter product ID: 3\n",
            "Enter product quantity: 4\n",
            "Enter product price: 5\n",
            "2 added successfully.\n",
            "\n",
            "Simple Inventory Management System\n",
            "1. Add a New Product\n",
            "2. View Inventory\n",
            "3. Update Product Quantity\n",
            "4. Remove a Product\n",
            "5. Exit\n",
            "Choose an option (1-5): 5\n",
            "Exiting the program.\n"
          ]
        }
      ]
    }
  ]
}