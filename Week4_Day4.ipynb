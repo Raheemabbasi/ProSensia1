{
  "nbformat": 4,
  "nbformat_minor": 0,
  "metadata": {
    "colab": {
      "provenance": [],
      "authorship_tag": "ABX9TyPMi6vsDTCl3/hdz9IEgMPf",
      "include_colab_link": true
    },
    "kernelspec": {
      "name": "python3",
      "display_name": "Python 3"
    },
    "language_info": {
      "name": "python"
    }
  },
  "cells": [
    {
      "cell_type": "markdown",
      "metadata": {
        "id": "view-in-github",
        "colab_type": "text"
      },
      "source": [
        "<a href=\"https://colab.research.google.com/github/Raheemabbasi/ProSensia1/blob/main/Week4_Day4.ipynb\" target=\"_parent\"><img src=\"https://colab.research.google.com/assets/colab-badge.svg\" alt=\"Open In Colab\"/></a>"
      ]
    },
    {
      "cell_type": "markdown",
      "source": [
        "1. Tuple Basics"
      ],
      "metadata": {
        "id": "Ga_aAg8_0wAw"
      }
    },
    {
      "cell_type": "code",
      "source": [
        "people = ('Alice', 'Bob', 'Charlie')\n",
        "print(people[1])  # Prints 'Bob'"
      ],
      "metadata": {
        "colab": {
          "base_uri": "https://localhost:8080/"
        },
        "id": "dATNVV5r0zOZ",
        "outputId": "366e3d34-fe7a-48ff-f51d-60ba2850f494"
      },
      "execution_count": 1,
      "outputs": [
        {
          "output_type": "stream",
          "name": "stdout",
          "text": [
            "Bob\n"
          ]
        }
      ]
    },
    {
      "cell_type": "markdown",
      "source": [
        "2. Tuple and Max Function"
      ],
      "metadata": {
        "id": "G2y6azga02fl"
      }
    },
    {
      "cell_type": "code",
      "source": [
        "def max_in_tuple(t):\n",
        "    return max(t)\n",
        "\n",
        "numbers = (4, 7, 1)\n",
        "print(max_in_tuple(numbers))"
      ],
      "metadata": {
        "colab": {
          "base_uri": "https://localhost:8080/"
        },
        "id": "948l0mHj06Ie",
        "outputId": "dd800ce9-66e4-4613-fec8-39ffbfdb2b96"
      },
      "execution_count": 2,
      "outputs": [
        {
          "output_type": "stream",
          "name": "stdout",
          "text": [
            "7\n"
          ]
        }
      ]
    },
    {
      "cell_type": "markdown",
      "source": [
        "3. Immutable Property"
      ],
      "metadata": {
        "id": "uv3MMhWK0_Nm"
      }
    },
    {
      "cell_type": "code",
      "source": [
        "my_tuple = ('apple', 'banana', 'cherry')\n",
        "try:\n",
        "    my_tuple[1] = 'orange'\n",
        "except TypeError as e:\n",
        "    print(f\"Error: {e}\")"
      ],
      "metadata": {
        "colab": {
          "base_uri": "https://localhost:8080/"
        },
        "id": "lEZ81amo1CbP",
        "outputId": "9644146f-6861-4c1b-b4be-8ccd2b5ff249"
      },
      "execution_count": 3,
      "outputs": [
        {
          "output_type": "stream",
          "name": "stdout",
          "text": [
            "Error: 'tuple' object does not support item assignment\n"
          ]
        }
      ]
    },
    {
      "cell_type": "markdown",
      "source": [
        "4. Tuple Operations"
      ],
      "metadata": {
        "id": "EEj11vWl1V73"
      }
    },
    {
      "cell_type": "code",
      "source": [
        "my_list = [1, 2, 3]\n",
        "my_tuple = (1, 2, 3)\n",
        "\n",
        "my_list.append(4)  # Works fine\n",
        "\n",
        "try:\n",
        "    my_tuple.append(4)  # Will raise an AttributeError because tuples don't support append\n",
        "except AttributeError as e:\n",
        "    print(f\"Error: {e}\")"
      ],
      "metadata": {
        "colab": {
          "base_uri": "https://localhost:8080/"
        },
        "id": "OucSOBb81ZBR",
        "outputId": "40fa465b-d7f9-45bf-e624-5dde9a8a5868"
      },
      "execution_count": 4,
      "outputs": [
        {
          "output_type": "stream",
          "name": "stdout",
          "text": [
            "Error: 'tuple' object has no attribute 'append'\n"
          ]
        }
      ]
    },
    {
      "cell_type": "markdown",
      "source": [
        "5. Tuple Assignment"
      ],
      "metadata": {
        "id": "-BGjtMcl1kWM"
      }
    },
    {
      "cell_type": "code",
      "source": [
        "def swap_values(a, b):\n",
        "    a, b = b, a\n",
        "    return a, b\n",
        "\n",
        "a = 5\n",
        "b = 10\n",
        "a, b = swap_values(a, b)\n",
        "print(a, b)"
      ],
      "metadata": {
        "colab": {
          "base_uri": "https://localhost:8080/"
        },
        "id": "jU8kiz4s1lQb",
        "outputId": "390aa36f-2ce4-435f-829e-c6fc630ab448"
      },
      "execution_count": 6,
      "outputs": [
        {
          "output_type": "stream",
          "name": "stdout",
          "text": [
            "10 5\n"
          ]
        }
      ]
    },
    {
      "cell_type": "markdown",
      "source": [
        "6. Dictionary and Tuples"
      ],
      "metadata": {
        "id": "KXQFB2iw1pmK"
      }
    },
    {
      "cell_type": "code",
      "source": [
        "def dict_to_tuples(d):\n",
        "    return list(d.items())\n",
        "\n",
        "my_dict = {'x': 1, 'y': 2, 'z': 3}\n",
        "print(dict_to_tuples(my_dict))"
      ],
      "metadata": {
        "colab": {
          "base_uri": "https://localhost:8080/"
        },
        "id": "ITsBXCMD1s3W",
        "outputId": "d6417b13-0277-4fb7-d940-cac1fe427d95"
      },
      "execution_count": 7,
      "outputs": [
        {
          "output_type": "stream",
          "name": "stdout",
          "text": [
            "[('x', 1), ('y', 2), ('z', 3)]\n"
          ]
        }
      ]
    },
    {
      "cell_type": "markdown",
      "source": [
        "7. Sorting Tuples"
      ],
      "metadata": {
        "id": "DUgcPfpk10RP"
      }
    },
    {
      "cell_type": "code",
      "source": [
        "def sort_dict_by_values(d):\n",
        "    return sorted([(v, k) for k, v in d.items()], reverse=True)\n",
        "\n",
        "my_dict = {'a': 10, 'b': 1, 'c': 22}\n",
        "print(sort_dict_by_values(my_dict))"
      ],
      "metadata": {
        "colab": {
          "base_uri": "https://localhost:8080/"
        },
        "id": "4kVttmQh13md",
        "outputId": "5decfd48-8dae-4adc-a6b0-c9f532501b40"
      },
      "execution_count": 8,
      "outputs": [
        {
          "output_type": "stream",
          "name": "stdout",
          "text": [
            "[(22, 'c'), (10, 'a'), (1, 'b')]\n"
          ]
        }
      ]
    },
    {
      "cell_type": "markdown",
      "source": [
        "8. Tuple Comparison"
      ],
      "metadata": {
        "id": "Sr3PN6-j18jL"
      }
    },
    {
      "cell_type": "code",
      "source": [
        "def compare_tuples(t1, t2):\n",
        "    return [a == b for a, b in zip(t1, t2)]\n",
        "\n",
        "tuple1 = (1, 2, 3)\n",
        "tuple2 = (3, 2, 1)\n",
        "print(compare_tuples(tuple1, tuple2))"
      ],
      "metadata": {
        "colab": {
          "base_uri": "https://localhost:8080/"
        },
        "id": "cFAIMZAE1_Zv",
        "outputId": "68c135e1-6d33-405d-9dc5-57d03d9e4a02"
      },
      "execution_count": 9,
      "outputs": [
        {
          "output_type": "stream",
          "name": "stdout",
          "text": [
            "[False, True, False]\n"
          ]
        }
      ]
    },
    {
      "cell_type": "markdown",
      "source": [
        "9. Top N Frequent Words"
      ],
      "metadata": {
        "id": "hQO_PCPP2EHs"
      }
    },
    {
      "cell_type": "code",
      "source": [
        "from collections import Counter\n",
        "\n",
        "def top_n_frequent_words(filename, N):\n",
        "    try:\n",
        "        with open(filename, 'r') as file:\n",
        "            words = file.read().split()\n",
        "        word_count = Counter(words)\n",
        "        return word_count.most_common(N)\n",
        "    except FileNotFoundError:\n",
        "        print(f\"Error: The file '{filename}' was not found.\")\n",
        "        return []\n",
        "    except Exception as e:\n",
        "        print(f\"An error occurred: {e}\")\n",
        "        return []\n",
        "\n",
        "# Example usage\n",
        "top_words = top_n_frequent_words('romeo.txt', 3)\n",
        "print(top_words)  # This will either print the top words or an error message"
      ],
      "metadata": {
        "colab": {
          "base_uri": "https://localhost:8080/"
        },
        "id": "5UlT9h0w2fnb",
        "outputId": "a7100e58-b81c-4ed6-d88b-e592604f65b1"
      },
      "execution_count": 12,
      "outputs": [
        {
          "output_type": "stream",
          "name": "stdout",
          "text": [
            "Error: The file 'romeo.txt' was not found.\n",
            "[]\n"
          ]
        }
      ]
    },
    {
      "cell_type": "markdown",
      "source": [
        "10. List Comprehension with Tuples"
      ],
      "metadata": {
        "id": "qRymGWyo2hhv"
      }
    },
    {
      "cell_type": "code",
      "source": [
        "def reverse_sort_dict(d):\n",
        "    return sorted([(v, k) for k, v in d.items()])\n",
        "\n",
        "my_dict = {'a': 10, 'b': 1, 'c': 22}\n",
        "print(reverse_sort_dict(my_dict))  # Prints [(1, 'b'), (10, 'a'), (22, 'c')]"
      ],
      "metadata": {
        "id": "sC_Icrje2k45",
        "outputId": "9cfd63b9-2aec-4051-f3db-43e3244ee2f8",
        "colab": {
          "base_uri": "https://localhost:8080/"
        }
      },
      "execution_count": 13,
      "outputs": [
        {
          "output_type": "stream",
          "name": "stdout",
          "text": [
            "[(1, 'b'), (10, 'a'), (22, 'c')]\n"
          ]
        }
      ]
    }
  ]
}