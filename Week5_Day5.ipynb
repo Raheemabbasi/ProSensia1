{
  "nbformat": 4,
  "nbformat_minor": 0,
  "metadata": {
    "colab": {
      "provenance": [],
      "authorship_tag": "ABX9TyNfwtddtKXn3cLeyPhCwFDu",
      "include_colab_link": true
    },
    "kernelspec": {
      "name": "python3",
      "display_name": "Python 3"
    },
    "language_info": {
      "name": "python"
    }
  },
  "cells": [
    {
      "cell_type": "markdown",
      "metadata": {
        "id": "view-in-github",
        "colab_type": "text"
      },
      "source": [
        "<a href=\"https://colab.research.google.com/github/Raheemabbasi/ProSensia1/blob/main/Week5_Day5.ipynb\" target=\"_parent\"><img src=\"https://colab.research.google.com/assets/colab-badge.svg\" alt=\"Open In Colab\"/></a>"
      ]
    },
    {
      "cell_type": "markdown",
      "source": [
        "Basic Expense Tracker"
      ],
      "metadata": {
        "id": "_U3PNS3hjy2s"
      }
    },
    {
      "cell_type": "code",
      "source": [
        "# expense_tracker.py\n",
        "\n",
        "expenses = []\n",
        "\n",
        "# Predefined list of valid categories\n",
        "categories = [\"food\", \"transportation\", \"entertainment\", \"utilities\", \"others\"]\n",
        "\n",
        "# Function to add a new expense\n",
        "def add_expense():\n",
        "    try:\n",
        "        amount = float(input(\"Enter the expense amount: \"))\n",
        "        if amount <= 0:\n",
        "            print(\"Amount should be positive!\")\n",
        "            return\n",
        "    except ValueError:\n",
        "        print(\"Invalid input! Amount should be a number.\")\n",
        "        return\n",
        "\n",
        "    category = input(\"Enter the expense category (food, transportation, entertainment, utilities, others): \").strip().lower()\n",
        "    if category not in categories:\n",
        "        print(\"Invalid category! Please choose from the available categories.\")\n",
        "        return\n",
        "\n",
        "    description = input(\"Enter a brief description of the expense: \").strip()\n",
        "\n",
        "    # Add the new expense to the list\n",
        "    expense = {\n",
        "        \"amount\": amount,\n",
        "        \"category\": category,\n",
        "        \"description\": description\n",
        "    }\n",
        "    expenses.append(expense)\n",
        "    print(f\"Expense of {amount} added successfully under '{category}' category.\")\n",
        "\n",
        "# Function to display a summary of expenses by category\n",
        "def display_summary():\n",
        "    if not expenses:\n",
        "        print(\"No expenses recorded yet.\")\n",
        "        return\n",
        "\n",
        "    # Dictionary to keep track of total expenses per category\n",
        "    summary = {category: 0 for category in categories}\n",
        "\n",
        "    # Iterate through expenses and calculate totals per category\n",
        "    for expense in expenses:\n",
        "        summary[expense[\"category\"]] += expense[\"amount\"]\n",
        "\n",
        "    # Display the summary\n",
        "    print(\"\\nExpense Summary:\")\n",
        "    for category, total in summary.items():\n",
        "        print(f\"Category: {category.capitalize()}, Total Spent: ${total:.2f}\")\n",
        "\n",
        "# Main function to manage the expense tracker workflow\n",
        "def main():\n",
        "    while True:\n",
        "        print(\"\\nExpense Tracker Menu\")\n",
        "        print(\"1. Add a New Expense\")\n",
        "        print(\"2. View Expense Summary\")\n",
        "        print(\"3. Exit\")\n",
        "\n",
        "        choice = input(\"Choose an option (1-3): \").strip()\n",
        "\n",
        "        if choice == \"1\":\n",
        "            add_expense()\n",
        "        elif choice == \"2\":\n",
        "            display_summary()\n",
        "        elif choice == \"3\":\n",
        "            print(\"Exiting the expense tracker.\")\n",
        "            break\n",
        "        else:\n",
        "            print(\"Invalid choice! Please select a valid option (1-3).\")\n",
        "\n",
        "# Start the program\n",
        "if __name__ == \"__main__\":\n",
        "    main()"
      ],
      "metadata": {
        "colab": {
          "base_uri": "https://localhost:8080/"
        },
        "id": "8PQuesR_j7j2",
        "outputId": "145763d7-7f9e-4b04-b860-3900b18a7368"
      },
      "execution_count": 1,
      "outputs": [
        {
          "output_type": "stream",
          "name": "stdout",
          "text": [
            "\n",
            "Expense Tracker Menu\n",
            "1. Add a New Expense\n",
            "2. View Expense Summary\n",
            "3. Exit\n",
            "Choose an option (1-3): 2\n",
            "No expenses recorded yet.\n",
            "\n",
            "Expense Tracker Menu\n",
            "1. Add a New Expense\n",
            "2. View Expense Summary\n",
            "3. Exit\n",
            "Choose an option (1-3): 3\n",
            "Exiting the expense tracker.\n"
          ]
        }
      ]
    }
  ]
}