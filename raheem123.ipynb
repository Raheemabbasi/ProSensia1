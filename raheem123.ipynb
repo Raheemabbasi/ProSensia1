{
  "cells": [
    {
      "cell_type": "markdown",
      "metadata": {
        "id": "view-in-github",
        "colab_type": "text"
      },
      "source": [
        "<a href=\"https://colab.research.google.com/github/Raheemabbasi/ProSensia1/blob/main/raheem123.ipynb\" target=\"_parent\"><img src=\"https://colab.research.google.com/assets/colab-badge.svg\" alt=\"Open In Colab\"/></a>"
      ]
    },
    {
      "cell_type": "code",
      "execution_count": null,
      "metadata": {
        "colab": {
          "base_uri": "https://localhost:8080/"
        },
        "id": "xyDV1NN8aYrO",
        "outputId": "5117d9a0-ecb8-4ecd-cb61-b3c24e3b5ef2"
      },
      "outputs": [
        {
          "name": "stdout",
          "output_type": "stream",
          "text": [
            "Hello World!\n"
          ]
        }
      ],
      "source": [
        "my_integer = 10\n",
        "my_string = \"Hello World!\"\n",
        "print (my_string)"
      ]
    },
    {
      "cell_type": "code",
      "execution_count": null,
      "metadata": {
        "colab": {
          "base_uri": "https://localhost:8080/"
        },
        "id": "iVDSnJi0fe2B",
        "outputId": "89868c91-be94-4fb2-a14c-80415c0ec4ec"
      },
      "outputs": [
        {
          "name": "stdout",
          "output_type": "stream",
          "text": [
            "The integer is greater than 5.\n"
          ]
        }
      ],
      "source": [
        "if my_integer > 5:\n",
        "  print(\"The integer is greater than 5.\")\n",
        "else:\n",
        "  print(\"The integer is not greater than 5.\")\n"
      ]
    },
    {
      "cell_type": "code",
      "execution_count": null,
      "metadata": {
        "colab": {
          "base_uri": "https://localhost:8080/"
        },
        "id": "DCDV17dkf0oX",
        "outputId": "e05d5b92-7376-417a-95b6-dc4665ed822c"
      },
      "outputs": [
        {
          "name": "stdout",
          "output_type": "stream",
          "text": [
            "[1, 2, 3]\n"
          ]
        }
      ],
      "source": [
        "my_list = [1, 2, 3, 4, 5]\n",
        "print(my_list[:3])\n"
      ]
    },
    {
      "cell_type": "code",
      "execution_count": null,
      "metadata": {
        "id": "PTi8fIXyg6UQ"
      },
      "outputs": [],
      "source": [
        "def multiply_numbers(num1, num2):\n",
        "\n",
        "  result = num1 * num2\n",
        "  print(\"The product of\", num1, \"and\", num2, \"is:\", result)\n",
        "\n"
      ]
    },
    {
      "cell_type": "code",
      "execution_count": null,
      "metadata": {
        "colab": {
          "base_uri": "https://localhost:8080/"
        },
        "id": "9OsuE7bjjzbq",
        "outputId": "12e1166c-3c6e-4ade-de07-16322d33218e"
      },
      "outputs": [
        {
          "name": "stdout",
          "output_type": "stream",
          "text": [
            "Random array: [0.74832595 0.54272455 0.86322348 0.98573518 0.8425234  0.75611307\n",
            " 0.92081428 0.26123132 0.38772178 0.37088626]\n",
            "Standard deviation: 0.24405831339164633\n"
          ]
        }
      ],
      "source": [
        "import numpy as np\n",
        "\n",
        "random_array = np.random.rand(10)\n",
        "\n",
        "std_dev = np.std(random_array)\n",
        "\n",
        "print(\"Random array:\", random_array)\n",
        "print(\"Standard deviation:\", std_dev)\n"
      ]
    },
    {
      "cell_type": "code",
      "execution_count": null,
      "metadata": {
        "colab": {
          "background_save": true,
          "base_uri": "https://localhost:8080/"
        },
        "id": "wQysXxJmoPpy",
        "outputId": "eccfc5df-15d0-4a14-f95c-346b9a4b4e30"
      },
      "outputs": [
        {
          "name": "stdout",
          "output_type": "stream",
          "text": [
            "Welcome, Raheem Abbasi!\n",
            "ABBOTTABAD\n",
            "HARIPUR\n",
            "KARACHI\n"
          ]
        }
      ],
      "source": [
        "\n",
        "# Get user's first and last name\n",
        "first_name = input(\"Enter your first name: \")\n",
        "last_name = input(\"Enter your last name: \")\n",
        "\n",
        "# Combine names and print welcome message\n",
        "full_name = first_name + \" \" + last_name\n",
        "print(\"Welcome,\", full_name + \"!\")\n",
        "\n",
        "# Create a list of cities\n",
        "cities = [\"Abbottabad\", \"Haripur\", \"\", \"Tokyo\", \"Sydney\"]\n",
        "\n",
        "# Print each city in uppercase\n",
        "for city in cities:\n",
        "  print(city.upper())\n"
      ]
    }
  ],
  "metadata": {
    "colab": {
      "provenance": [],
      "authorship_tag": "ABX9TyNa1CuLi9bIK31e78m4Ax5k",
      "include_colab_link": true
    },
    "kernelspec": {
      "display_name": "Python 3",
      "name": "python3"
    },
    "language_info": {
      "name": "python"
    }
  },
  "nbformat": 4,
  "nbformat_minor": 0
}