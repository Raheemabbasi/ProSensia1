{
  "nbformat": 4,
  "nbformat_minor": 0,
  "metadata": {
    "colab": {
      "provenance": [],
      "authorship_tag": "ABX9TyOuIzA7hQ2YDGjEA6svqB14",
      "include_colab_link": true
    },
    "kernelspec": {
      "name": "python3",
      "display_name": "Python 3"
    },
    "language_info": {
      "name": "python"
    }
  },
  "cells": [
    {
      "cell_type": "markdown",
      "metadata": {
        "id": "view-in-github",
        "colab_type": "text"
      },
      "source": [
        "<a href=\"https://colab.research.google.com/github/Raheemabbasi/ProSensia1/blob/main/Week4_Day3.ipynb\" target=\"_parent\"><img src=\"https://colab.research.google.com/assets/colab-badge.svg\" alt=\"Open In Colab\"/></a>"
      ]
    },
    {
      "cell_type": "markdown",
      "source": [
        "1. Creating a Dictionary"
      ],
      "metadata": {
        "id": "DvRd30ppynjo"
      }
    },
    {
      "cell_type": "code",
      "source": [
        "my_dict = {}\n",
        "my_dict['key1'] = 'value1'\n",
        "my_dict['key2'] = 'value2'\n",
        "my_dict['key3'] = 'value3'\n",
        "print(my_dict)"
      ],
      "metadata": {
        "colab": {
          "base_uri": "https://localhost:8080/"
        },
        "id": "YCTOgV9nyuRZ",
        "outputId": "04ceb9b3-3094-45f2-cb9a-2d18c017dc5e"
      },
      "execution_count": 1,
      "outputs": [
        {
          "output_type": "stream",
          "name": "stdout",
          "text": [
            "{'key1': 'value1', 'key2': 'value2', 'key3': 'value3'}\n"
          ]
        }
      ]
    },
    {
      "cell_type": "markdown",
      "source": [
        "2. Accessing Dictionary Values"
      ],
      "metadata": {
        "id": "MAhIe2QSywkz"
      }
    },
    {
      "cell_type": "code",
      "source": [
        "def get_value(my_dict, key):\n",
        "    if key in my_dict:\n",
        "        print(my_dict[key])\n",
        "    else:\n",
        "        print(\"Key not found.\")\n",
        "\n",
        "sample_dict = {'a': 1, 'b': 2, 'c': 3}\n",
        "get_value(sample_dict, 'b')\n",
        "get_value(sample_dict, 'z')"
      ],
      "metadata": {
        "colab": {
          "base_uri": "https://localhost:8080/"
        },
        "id": "4LqY8u-_yy8t",
        "outputId": "a576de28-9ee5-49dc-9c4d-9f567ca815d0"
      },
      "execution_count": 2,
      "outputs": [
        {
          "output_type": "stream",
          "name": "stdout",
          "text": [
            "2\n",
            "Key not found.\n"
          ]
        }
      ]
    },
    {
      "cell_type": "markdown",
      "source": [
        "3. Updating Dictionary Values"
      ],
      "metadata": {
        "id": "DYe8MiH9y2rj"
      }
    },
    {
      "cell_type": "code",
      "source": [
        "my_dict = {'a': 1, 'b': 2, 'c': 3}\n",
        "print(\"Before update:\", my_dict)\n",
        "my_dict['b'] = 20\n",
        "print(\"After update:\", my_dict)"
      ],
      "metadata": {
        "colab": {
          "base_uri": "https://localhost:8080/"
        },
        "id": "Zwyw1YUdy5Vk",
        "outputId": "20eef535-0421-4d71-a6f8-7f673e4a819d"
      },
      "execution_count": 3,
      "outputs": [
        {
          "output_type": "stream",
          "name": "stdout",
          "text": [
            "Before update: {'a': 1, 'b': 2, 'c': 3}\n",
            "After update: {'a': 1, 'b': 20, 'c': 3}\n"
          ]
        }
      ]
    },
    {
      "cell_type": "markdown",
      "source": [
        "4. Counting Word Occurrences"
      ],
      "metadata": {
        "id": "5d32-fgBy8kC"
      }
    },
    {
      "cell_type": "code",
      "source": [
        "text = input(\"Enter a line of text: \")\n",
        "words = text.split()\n",
        "word_count = {}\n",
        "for word in words:\n",
        "    word_count[word] = word_count.get(word, 0) + 1\n",
        "print(word_count)"
      ],
      "metadata": {
        "colab": {
          "base_uri": "https://localhost:8080/"
        },
        "id": "FJFmA4mey_bz",
        "outputId": "f86a5646-cc3c-40da-ee9c-2bac3c675118"
      },
      "execution_count": 4,
      "outputs": [
        {
          "output_type": "stream",
          "name": "stdout",
          "text": [
            "Enter a line of text: My name is raheem\n",
            "{'My': 1, 'name': 1, 'is': 1, 'raheem': 1}\n"
          ]
        }
      ]
    },
    {
      "cell_type": "markdown",
      "source": [
        "5. Retrieving Dictionary Keys and Values"
      ],
      "metadata": {
        "id": "WFRjo5a5zEjA"
      }
    },
    {
      "cell_type": "code",
      "source": [
        "def print_keys_and_values(my_dict):\n",
        "    print(\"Keys:\", list(my_dict.keys()))\n",
        "    print(\"Values:\", list(my_dict.values()))\n",
        "\n",
        "sample_dict = {'a': 1, 'b': 2, 'c': 3}\n",
        "print_keys_and_values(sample_dict)"
      ],
      "metadata": {
        "colab": {
          "base_uri": "https://localhost:8080/"
        },
        "id": "Ekfh4BzzzINJ",
        "outputId": "c741bec3-f3ee-4f15-9ef9-679cddf5e8d7"
      },
      "execution_count": 5,
      "outputs": [
        {
          "output_type": "stream",
          "name": "stdout",
          "text": [
            "Keys: ['a', 'b', 'c']\n",
            "Values: [1, 2, 3]\n"
          ]
        }
      ]
    },
    {
      "cell_type": "markdown",
      "source": [
        "6. Dictionary Default Values"
      ],
      "metadata": {
        "id": "uFHsx8bfzLGK"
      }
    },
    {
      "cell_type": "code",
      "source": [
        "my_dict = {'a': 1, 'b': 2, 'c': 3}\n",
        "value = my_dict.get('b', 0)\n",
        "print(value)\n",
        "value = my_dict.get('z', 0)\n",
        "print(value)"
      ],
      "metadata": {
        "colab": {
          "base_uri": "https://localhost:8080/"
        },
        "id": "9ggF8ZHizNqa",
        "outputId": "ed3729f6-8448-46f2-ee02-cd521fe127b9"
      },
      "execution_count": 6,
      "outputs": [
        {
          "output_type": "stream",
          "name": "stdout",
          "text": [
            "2\n",
            "0\n"
          ]
        }
      ]
    },
    {
      "cell_type": "markdown",
      "source": [
        "7. Nested Dictionaries"
      ],
      "metadata": {
        "id": "WQbB_2mOzQLY"
      }
    },
    {
      "cell_type": "code",
      "source": [
        "students = {\n",
        "    'student1': {\n",
        "        'name': 'Alice',\n",
        "        'age': 20,\n",
        "        'grades': {'Math': 90, 'English': 85}\n",
        "    },\n",
        "    'student2': {\n",
        "        'name': 'Bob',\n",
        "        'age': 22,\n",
        "        'grades': {'Math': 75, 'English': 80}\n",
        "    }\n",
        "}\n",
        "print(students)"
      ],
      "metadata": {
        "colab": {
          "base_uri": "https://localhost:8080/"
        },
        "id": "0UnQK6lazTFr",
        "outputId": "a34c510a-adf5-4ea9-bb6c-ffb549bfa594"
      },
      "execution_count": 7,
      "outputs": [
        {
          "output_type": "stream",
          "name": "stdout",
          "text": [
            "{'student1': {'name': 'Alice', 'age': 20, 'grades': {'Math': 90, 'English': 85}}, 'student2': {'name': 'Bob', 'age': 22, 'grades': {'Math': 75, 'English': 80}}}\n"
          ]
        }
      ]
    },
    {
      "cell_type": "markdown",
      "source": [
        "8. Merging Dictionaries"
      ],
      "metadata": {
        "id": "Qdr-Q27qzVk5"
      }
    },
    {
      "cell_type": "code",
      "source": [
        "def merge_dicts(dict1, dict2):\n",
        "    merged_dict = dict1.copy()\n",
        "    merged_dict.update(dict2)\n",
        "    return merged_dict\n",
        "\n",
        "dict1 = {'a': 1, 'b': 2}\n",
        "dict2 = {'b': 3, 'c': 4}\n",
        "result = merge_dicts(dict1, dict2)\n",
        "print(result)"
      ],
      "metadata": {
        "colab": {
          "base_uri": "https://localhost:8080/"
        },
        "id": "5kX0OgnBzYBd",
        "outputId": "3319d13a-8bd6-4670-9376-b11158acaa96"
      },
      "execution_count": 8,
      "outputs": [
        {
          "output_type": "stream",
          "name": "stdout",
          "text": [
            "{'a': 1, 'b': 3, 'c': 4}\n"
          ]
        }
      ]
    },
    {
      "cell_type": "markdown",
      "source": [
        "9. Dictionary Tracebacks"
      ],
      "metadata": {
        "id": "caW8xFwlzaKq"
      }
    },
    {
      "cell_type": "code",
      "source": [
        "my_dict = {'a': 1, 'b': 2}\n",
        "try:\n",
        "    print(my_dict['c'])\n",
        "except KeyError:\n",
        "    print(\"KeyError: The key 'c' does not exist in the dictionary.\")"
      ],
      "metadata": {
        "colab": {
          "base_uri": "https://localhost:8080/"
        },
        "id": "nH5izDuWzcmF",
        "outputId": "c3fb882e-8ff8-4738-cdc7-26c4f0d055f4"
      },
      "execution_count": 9,
      "outputs": [
        {
          "output_type": "stream",
          "name": "stdout",
          "text": [
            "KeyError: The key 'c' does not exist in the dictionary.\n"
          ]
        }
      ]
    },
    {
      "cell_type": "markdown",
      "source": [
        "10. Finding the Most Common Word"
      ],
      "metadata": {
        "id": "hFWFa-xgze20"
      }
    },
    {
      "cell_type": "code",
      "source": [
        "def find_most_common_word(filename):\n",
        "    try:\n",
        "        with open(filename, 'r') as file:\n",
        "            text = file.read()\n",
        "\n",
        "        # Handle the case where the file might be empty\n",
        "        if not text:\n",
        "            print(\"The file is empty.\")\n",
        "            return\n",
        "\n",
        "        words = text.split()\n",
        "        word_count = {}\n",
        "\n",
        "        for word in words:\n",
        "            # Optionally, you can normalize the text by lowercasing and removing punctuation\n",
        "            word = word.lower().strip(\",.?!\")\n",
        "            word_count[word] = word_count.get(word, 0) + 1\n",
        "\n",
        "        if word_count:\n",
        "            most_common_word = max(word_count, key=word_count.get)\n",
        "            print(f\"The most common word is '{most_common_word}' with a count of {word_count[most_common_word]}.\")\n",
        "        else:\n",
        "            print(\"No words found in the file.\")\n",
        "\n",
        "    except FileNotFoundError:\n",
        "        print(f\"Error: The file '{filename}' does not exist.\")\n",
        "    except Exception as e:\n",
        "        print(f\"An error occurred: {e}\")\n",
        "\n",
        "# Test the function\n",
        "find_most_common_word('data.txt')"
      ],
      "metadata": {
        "colab": {
          "base_uri": "https://localhost:8080/"
        },
        "id": "Kj33GaSvz1Cb",
        "outputId": "0f25f968-ba22-4e46-864c-6f01bf2b6d38"
      },
      "execution_count": 12,
      "outputs": [
        {
          "output_type": "stream",
          "name": "stdout",
          "text": [
            "Error: The file 'data.txt' does not exist.\n"
          ]
        }
      ]
    }
  ]
}