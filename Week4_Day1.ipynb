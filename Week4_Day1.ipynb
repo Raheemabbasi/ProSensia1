{
  "nbformat": 4,
  "nbformat_minor": 0,
  "metadata": {
    "colab": {
      "provenance": [],
      "authorship_tag": "ABX9TyOeOrdV5ZvM3xiBqsqLbRfZ",
      "include_colab_link": true
    },
    "kernelspec": {
      "name": "python3",
      "display_name": "Python 3"
    },
    "language_info": {
      "name": "python"
    }
  },
  "cells": [
    {
      "cell_type": "markdown",
      "metadata": {
        "id": "view-in-github",
        "colab_type": "text"
      },
      "source": [
        "<a href=\"https://colab.research.google.com/github/Raheemabbasi/ProSensia1/blob/main/Week4_Day1.ipynb\" target=\"_parent\"><img src=\"https://colab.research.google.com/assets/colab-badge.svg\" alt=\"Open In Colab\"/></a>"
      ]
    },
    {
      "cell_type": "markdown",
      "source": [
        "1.Opening a File:"
      ],
      "metadata": {
        "id": "rU60U2o-uKjI"
      }
    },
    {
      "cell_type": "code",
      "source": [
        "\n",
        "try:\n",
        "    file = open('data.txt', 'r')\n",
        "    print(\"File opened successfully\")\n",
        "    file.close()\n",
        "except FileNotFoundError:\n",
        "    print(\"File not found\")"
      ],
      "metadata": {
        "colab": {
          "base_uri": "https://localhost:8080/"
        },
        "id": "yi62RdBHuc8i",
        "outputId": "ee91ef8c-b31a-40e4-be83-9b59212cba56"
      },
      "execution_count": 1,
      "outputs": [
        {
          "output_type": "stream",
          "name": "stdout",
          "text": [
            "File not found\n"
          ]
        }
      ]
    },
    {
      "cell_type": "markdown",
      "source": [
        "2. Reading a File:"
      ],
      "metadata": {
        "id": "avRHF9Iqumvx"
      }
    },
    {
      "cell_type": "code",
      "source": [
        "try:\n",
        "    with open('data.txt', 'r') as file:\n",
        "        lines = file.readlines()\n",
        "        for line in lines:\n",
        "            print(line.strip())  # strip() removes extra newline characters\n",
        "except FileNotFoundError:\n",
        "    print(\"File not found\")"
      ],
      "metadata": {
        "colab": {
          "base_uri": "https://localhost:8080/"
        },
        "id": "FJktl4WTunr9",
        "outputId": "a3e593f9-e8d4-4988-8ca6-4578b9383b44"
      },
      "execution_count": 2,
      "outputs": [
        {
          "output_type": "stream",
          "name": "stdout",
          "text": [
            "File not found\n"
          ]
        }
      ]
    },
    {
      "cell_type": "markdown",
      "source": [
        "3. Writing to a File:"
      ],
      "metadata": {
        "id": "sOg9N-NwuvOS"
      }
    },
    {
      "cell_type": "code",
      "source": [
        "with open('output.txt', 'w') as file:\n",
        "    file.write(\"Hello, World!\")"
      ],
      "metadata": {
        "id": "kWckZjP0uwNx"
      },
      "execution_count": 3,
      "outputs": []
    },
    {
      "cell_type": "markdown",
      "source": [
        "4. File Not Found:"
      ],
      "metadata": {
        "id": "No81Or3Xu8MK"
      }
    },
    {
      "cell_type": "code",
      "source": [
        "try:\n",
        "    file = open('data.txt', 'r')\n",
        "    file.close()\n",
        "except FileNotFoundError:\n",
        "    print(\"The file 'data.txt' does not exist.\")"
      ],
      "metadata": {
        "colab": {
          "base_uri": "https://localhost:8080/"
        },
        "id": "PG_Q66KJu9jm",
        "outputId": "4c7cd77d-963d-4d05-fe8f-fa4a156a7322"
      },
      "execution_count": 4,
      "outputs": [
        {
          "output_type": "stream",
          "name": "stdout",
          "text": [
            "The file 'data.txt' does not exist.\n"
          ]
        }
      ]
    },
    {
      "cell_type": "markdown",
      "source": [
        "5. Counting Lines:"
      ],
      "metadata": {
        "id": "Uu4H0Dj0vAj-"
      }
    },
    {
      "cell_type": "code",
      "source": [
        "try:\n",
        "    with open('data.txt', 'r') as file:\n",
        "        line_count = sum(1 for line in file)\n",
        "    print(f\"Number of lines: {line_count}\")\n",
        "except FileNotFoundError:\n",
        "    print(\"File not found\")"
      ],
      "metadata": {
        "colab": {
          "base_uri": "https://localhost:8080/"
        },
        "id": "ecMl9lDcvGxc",
        "outputId": "f7a59363-b902-4def-f92d-b803715d767d"
      },
      "execution_count": 5,
      "outputs": [
        {
          "output_type": "stream",
          "name": "stdout",
          "text": [
            "File not found\n"
          ]
        }
      ]
    },
    {
      "cell_type": "markdown",
      "source": [
        "6. Searching in a File:"
      ],
      "metadata": {
        "id": "rQHknKhEvKah"
      }
    },
    {
      "cell_type": "code",
      "source": [
        "try:\n",
        "    with open('log.txt', 'r') as file:\n",
        "        for line in file:\n",
        "            if \"error\" in line.lower():\n",
        "                print(line.strip())\n",
        "except FileNotFoundError:\n",
        "    print(\"File not found\")"
      ],
      "metadata": {
        "colab": {
          "base_uri": "https://localhost:8080/"
        },
        "id": "DP-9OvKNva8N",
        "outputId": "513d5e1f-3bf6-4f29-e965-859f858b4e19"
      },
      "execution_count": 6,
      "outputs": [
        {
          "output_type": "stream",
          "name": "stdout",
          "text": [
            "File not found\n"
          ]
        }
      ]
    },
    {
      "cell_type": "markdown",
      "source": [
        "7. Copying Files:"
      ],
      "metadata": {
        "id": "n6Z_JfwNveev"
      }
    },
    {
      "cell_type": "code",
      "source": [
        "try:\n",
        "    with open('data.txt', 'r') as original_file:\n",
        "        with open('data_copy.txt', 'w') as copy_file:\n",
        "            for line in original_file:\n",
        "                copy_file.write(line)\n",
        "except FileNotFoundError:\n",
        "    print(\"File not found\")"
      ],
      "metadata": {
        "colab": {
          "base_uri": "https://localhost:8080/"
        },
        "id": "qRHSVBPMvhkf",
        "outputId": "da283cd3-5caf-4df5-8bb2-ed6b3abc2292"
      },
      "execution_count": 7,
      "outputs": [
        {
          "output_type": "stream",
          "name": "stdout",
          "text": [
            "File not found\n"
          ]
        }
      ]
    },
    {
      "cell_type": "markdown",
      "source": [
        "8. Appending to a File:"
      ],
      "metadata": {
        "id": "zovBIBsyvkV4"
      }
    },
    {
      "cell_type": "code",
      "source": [
        "with open('output.txt', 'a') as file:\n",
        "    file.write(\"\\nEnd of file\")"
      ],
      "metadata": {
        "id": "YOWFcTTOvnwz"
      },
      "execution_count": 8,
      "outputs": []
    },
    {
      "cell_type": "markdown",
      "source": [
        "9. Using Context Manager:"
      ],
      "metadata": {
        "id": "4WNeJpqrvqkP"
      }
    },
    {
      "cell_type": "code",
      "source": [
        "try:\n",
        "    with open('data.txt', 'r') as file:\n",
        "        content = file.read()\n",
        "        print(content)\n",
        "except FileNotFoundError:\n",
        "    print(\"File not found\")"
      ],
      "metadata": {
        "colab": {
          "base_uri": "https://localhost:8080/"
        },
        "id": "kB6bPSqGvwzc",
        "outputId": "0282cb23-deef-42e2-a39c-e445f6083cbb"
      },
      "execution_count": 9,
      "outputs": [
        {
          "output_type": "stream",
          "name": "stdout",
          "text": [
            "File not found\n"
          ]
        }
      ]
    },
    {
      "cell_type": "markdown",
      "source": [
        "10. File Properties:"
      ],
      "metadata": {
        "id": "Wk4iQbIMvzS5"
      }
    },
    {
      "cell_type": "code",
      "source": [
        "import os\n",
        "\n",
        "try:\n",
        "    file_size = os.path.getsize('data.txt')\n",
        "    print(f\"Size of 'data.txt': {file_size} bytes\")\n",
        "except FileNotFoundError:\n",
        "    print(\"File not found\")"
      ],
      "metadata": {
        "colab": {
          "base_uri": "https://localhost:8080/"
        },
        "id": "YKWvXdTlv2JY",
        "outputId": "42f08dfa-53bf-43b7-8ac7-6160f5ca5ddc"
      },
      "execution_count": 10,
      "outputs": [
        {
          "output_type": "stream",
          "name": "stdout",
          "text": [
            "File not found\n"
          ]
        }
      ]
    }
  ]
}